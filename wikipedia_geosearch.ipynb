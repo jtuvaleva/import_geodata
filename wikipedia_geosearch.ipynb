{
 "cells": [
  {
   "cell_type": "code",
   "execution_count": 1,
   "metadata": {
    "ExecuteTime": {
     "end_time": "2021-02-23T14:02:52.289593Z",
     "start_time": "2021-02-23T14:02:46.573829Z"
    }
   },
   "outputs": [],
   "source": [
    "import wikipedia\n",
    "import pandas as pd\n",
    "import geopandas as gpd\n",
    "from shapely.wkt import loads\n",
    "import requests\n",
    "import json\n",
    "import numpy as np\n",
    "from tqdm import tqdm_notebook\n",
    "from qwikidata.sparql import (get_subclasses_of_item,\n",
    "                              return_sparql_query_results)\n",
    "from datetime import date"
   ]
  },
  {
   "cell_type": "code",
   "execution_count": 2,
   "metadata": {
    "ExecuteTime": {
     "end_time": "2021-02-23T14:02:59.803620Z",
     "start_time": "2021-02-23T14:02:59.771333Z"
    }
   },
   "outputs": [],
   "source": [
    "def get_coordinates(x):\n",
    "    try:\n",
    "        x = x['coordinates']\n",
    "        lat = x[0]['lat']\n",
    "        lon = x[0]['lon']\n",
    "        return lat, lon\n",
    "    except:\n",
    "        return 0,0\n",
    "    \n",
    "def pageviews_sum(x):\n",
    "    if type(x) == dict:\n",
    "        dict_values = [k for k in x.values() if k is not None]\n",
    "        return sum(dict_values)\n",
    "    else:\n",
    "        return x"
   ]
  },
  {
   "cell_type": "code",
   "execution_count": 3,
   "metadata": {
    "ExecuteTime": {
     "end_time": "2021-02-23T14:03:01.431325Z",
     "start_time": "2021-02-23T14:03:01.253238Z"
    }
   },
   "outputs": [
    {
     "data": {
      "text/html": [
       "<div>\n",
       "<style scoped>\n",
       "    .dataframe tbody tr th:only-of-type {\n",
       "        vertical-align: middle;\n",
       "    }\n",
       "\n",
       "    .dataframe tbody tr th {\n",
       "        vertical-align: top;\n",
       "    }\n",
       "\n",
       "    .dataframe thead th {\n",
       "        text-align: right;\n",
       "    }\n",
       "</style>\n",
       "<table border=\"1\" class=\"dataframe\">\n",
       "  <thead>\n",
       "    <tr style=\"text-align: right;\">\n",
       "      <th></th>\n",
       "      <th>id</th>\n",
       "      <th>geometry</th>\n",
       "      <th>left</th>\n",
       "      <th>bottom</th>\n",
       "      <th>right</th>\n",
       "      <th>top</th>\n",
       "    </tr>\n",
       "  </thead>\n",
       "  <tbody>\n",
       "    <tr>\n",
       "      <th>0</th>\n",
       "      <td>5979</td>\n",
       "      <td>POLYGON ((37.55814 55.80167, 37.56263 55.80167...</td>\n",
       "      <td>37.558143</td>\n",
       "      <td>55.799146</td>\n",
       "      <td>37.562635</td>\n",
       "      <td>55.801671</td>\n",
       "    </tr>\n",
       "    <tr>\n",
       "      <th>1</th>\n",
       "      <td>5980</td>\n",
       "      <td>POLYGON ((37.55814 55.79915, 37.56263 55.79915...</td>\n",
       "      <td>37.558143</td>\n",
       "      <td>55.796622</td>\n",
       "      <td>37.562635</td>\n",
       "      <td>55.799146</td>\n",
       "    </tr>\n",
       "    <tr>\n",
       "      <th>2</th>\n",
       "      <td>5981</td>\n",
       "      <td>POLYGON ((37.55814 55.79662, 37.56263 55.79662...</td>\n",
       "      <td>37.558143</td>\n",
       "      <td>55.794097</td>\n",
       "      <td>37.562635</td>\n",
       "      <td>55.796622</td>\n",
       "    </tr>\n",
       "    <tr>\n",
       "      <th>3</th>\n",
       "      <td>5982</td>\n",
       "      <td>POLYGON ((37.55814 55.79410, 37.56263 55.79410...</td>\n",
       "      <td>37.558143</td>\n",
       "      <td>55.791572</td>\n",
       "      <td>37.562635</td>\n",
       "      <td>55.794097</td>\n",
       "    </tr>\n",
       "    <tr>\n",
       "      <th>4</th>\n",
       "      <td>5983</td>\n",
       "      <td>POLYGON ((37.55814 55.79157, 37.56263 55.79157...</td>\n",
       "      <td>37.558143</td>\n",
       "      <td>55.789046</td>\n",
       "      <td>37.562635</td>\n",
       "      <td>55.791572</td>\n",
       "    </tr>\n",
       "    <tr>\n",
       "      <th>5</th>\n",
       "      <td>5984</td>\n",
       "      <td>POLYGON ((37.55814 55.78905, 37.56263 55.78905...</td>\n",
       "      <td>37.558143</td>\n",
       "      <td>55.786521</td>\n",
       "      <td>37.562635</td>\n",
       "      <td>55.789046</td>\n",
       "    </tr>\n",
       "  </tbody>\n",
       "</table>\n",
       "</div>"
      ],
      "text/plain": [
       "     id                                           geometry       left  \\\n",
       "0  5979  POLYGON ((37.55814 55.80167, 37.56263 55.80167...  37.558143   \n",
       "1  5980  POLYGON ((37.55814 55.79915, 37.56263 55.79915...  37.558143   \n",
       "2  5981  POLYGON ((37.55814 55.79662, 37.56263 55.79662...  37.558143   \n",
       "3  5982  POLYGON ((37.55814 55.79410, 37.56263 55.79410...  37.558143   \n",
       "4  5983  POLYGON ((37.55814 55.79157, 37.56263 55.79157...  37.558143   \n",
       "5  5984  POLYGON ((37.55814 55.78905, 37.56263 55.78905...  37.558143   \n",
       "\n",
       "      bottom      right        top  \n",
       "0  55.799146  37.562635  55.801671  \n",
       "1  55.796622  37.562635  55.799146  \n",
       "2  55.794097  37.562635  55.796622  \n",
       "3  55.791572  37.562635  55.794097  \n",
       "4  55.789046  37.562635  55.791572  \n",
       "5  55.786521  37.562635  55.789046  "
      ]
     },
     "execution_count": 3,
     "metadata": {},
     "output_type": "execute_result"
    }
   ],
   "source": [
    "grid = gpd.read_file('data/test500.geojson')\n",
    "grid[['left', 'bottom', 'right', 'top']] = grid['geometry'].bounds\n",
    "grid.head(6)"
   ]
  },
  {
   "cell_type": "markdown",
   "metadata": {
    "ExecuteTime": {
     "end_time": "2021-02-19T10:45:25.562898Z",
     "start_time": "2021-02-19T10:45:25.552923Z"
    }
   },
   "source": [
    "__API: generator = geosearch__"
   ]
  },
  {
   "cell_type": "code",
   "execution_count": null,
   "metadata": {
    "ExecuteTime": {
     "end_time": "2021-02-21T12:54:27.537040Z",
     "start_time": "2021-02-21T12:43:34.818201Z"
    }
   },
   "outputs": [],
   "source": [
    "allData2 = pd.DataFrame()\n",
    "API_URL = 'https://ru.wikipedia.org/w/api.php?action=query&generator=geosearch&ggslimit=500&'\n",
    "\n",
    "for i in tqdm_notebook(grid.index):\n",
    "    try:\n",
    "        maxlon = grid.loc[i,'right']\n",
    "        maxlat = grid.loc[i,'top']\n",
    "        minlon = grid.loc[i,'left']\n",
    "        minlat = grid.loc[i,'bottom']\n",
    "        cell_id = grid.loc[i, 'id']\n",
    "\n",
    "        params={'ggsbbox': '{}|{}|{}|{}'.format(maxlat, minlon, minlat, maxlon),\n",
    "                'redirects': 1,\n",
    "                'prop': 'coordinates|pageviews|langlinkscount|info',\n",
    "                'format':'json'}\n",
    "\n",
    "        response = requests.get(API_URL, params=params)\n",
    "        response_data = response.json()\n",
    "\n",
    "        df_pages = pd.DataFrame.from_dict(response_data['query']['pages'], orient=\"index\")\n",
    "\n",
    "        df_pages[['lat', 'lon']] = df_pages.apply(get_coordinates, axis = 1, result_type=\"expand\")\n",
    "        \n",
    "        df_pages = df_pages.drop(labels = 'index', axis =1 )\n",
    "        df_pages['pageviews'] = np.where(df_pages['pageviews'].isnull(), 0, df_pages['pageviews'])\n",
    "        df_pages['count_pageviews'] = df_pages['pageviews'].apply(lambda x: pageviews_sum(x))\n",
    "\n",
    "        df_pages['cell_id'] = cell_id\n",
    "        allData2 = allData2.append(df_pages)\n",
    "    except:\n",
    "        print(cell_id)"
   ]
  },
  {
   "cell_type": "code",
   "execution_count": 7,
   "metadata": {
    "ExecuteTime": {
     "end_time": "2021-02-21T12:54:27.570294Z",
     "start_time": "2021-02-21T12:54:27.546927Z"
    }
   },
   "outputs": [
    {
     "data": {
      "text/plain": [
       "3966"
      ]
     },
     "execution_count": 7,
     "metadata": {},
     "output_type": "execute_result"
    }
   ],
   "source": [
    "len(allData2)"
   ]
  },
  {
   "cell_type": "code",
   "execution_count": 8,
   "metadata": {
    "ExecuteTime": {
     "end_time": "2021-02-21T12:54:27.872205Z",
     "start_time": "2021-02-21T12:54:27.574344Z"
    }
   },
   "outputs": [],
   "source": [
    "allData2.to_csv('bbox_wiki_500_feb_test.csv', index = False)"
   ]
  },
  {
   "cell_type": "markdown",
   "metadata": {},
   "source": [
    "__API: list=geosearch__"
   ]
  },
  {
   "cell_type": "code",
   "execution_count": 9,
   "metadata": {
    "ExecuteTime": {
     "end_time": "2021-02-21T13:03:19.075826Z",
     "start_time": "2021-02-21T12:54:27.879232Z"
    }
   },
   "outputs": [
    {
     "data": {
      "application/vnd.jupyter.widget-view+json": {
       "model_id": "1da0c53348ec4c3f837b8fe42aaecafa",
       "version_major": 2,
       "version_minor": 0
      },
      "text/plain": [
       "HBox(children=(IntProgress(value=0, max=924), HTML(value='')))"
      ]
     },
     "metadata": {},
     "output_type": "display_data"
    },
    {
     "name": "stdout",
     "output_type": "stream",
     "text": [
      "553\n",
      "\n"
     ]
    }
   ],
   "source": [
    "API_URL = 'https://ru.wikipedia.org/w/api.php?action=query'\n",
    "\n",
    "allData = pd.DataFrame()\n",
    "for i in tqdm_notebook(grid.index):\n",
    "    try: \n",
    "        maxlon = grid.loc[i,'right']\n",
    "        maxlat = grid.loc[i,'top']\n",
    "        minlon = grid.loc[i,'left']\n",
    "        minlat = grid.loc[i,'bottom']\n",
    "        cell_id = grid.loc[i, 'id']\n",
    "\n",
    "        params={'list': 'geosearch',\n",
    "                'gsbbox': '{}|{}|{}|{}'.format(maxlat, minlon, minlat, maxlon),\n",
    "                'gslimit': 500,\n",
    "                'redirects': 1,\n",
    "                'prop': 'coordinates|categories|pageviews|langlinkscount',\n",
    "                'format':'json'}\n",
    "\n",
    "        response = requests.get(API_URL, params=params)\n",
    "        response_data = response.json()\n",
    "        geodata = pd.DataFrame(response_data['query']['geosearch'])\n",
    "        geodata['cell_id'] = cell_id\n",
    "        allData = allData.append(geodata)\n",
    "    except:\n",
    "        print(i)"
   ]
  },
  {
   "cell_type": "code",
   "execution_count": 10,
   "metadata": {
    "ExecuteTime": {
     "end_time": "2021-02-21T13:03:19.093875Z",
     "start_time": "2021-02-21T13:03:19.083566Z"
    }
   },
   "outputs": [
    {
     "data": {
      "text/plain": [
       "3959"
      ]
     },
     "execution_count": 10,
     "metadata": {},
     "output_type": "execute_result"
    }
   ],
   "source": [
    "len(allData)"
   ]
  },
  {
   "cell_type": "code",
   "execution_count": 13,
   "metadata": {
    "ExecuteTime": {
     "end_time": "2021-02-21T13:05:39.273607Z",
     "start_time": "2021-02-21T13:05:39.253384Z"
    }
   },
   "outputs": [
    {
     "data": {
      "text/html": [
       "<div>\n",
       "<style scoped>\n",
       "    .dataframe tbody tr th:only-of-type {\n",
       "        vertical-align: middle;\n",
       "    }\n",
       "\n",
       "    .dataframe tbody tr th {\n",
       "        vertical-align: top;\n",
       "    }\n",
       "\n",
       "    .dataframe thead th {\n",
       "        text-align: right;\n",
       "    }\n",
       "</style>\n",
       "<table border=\"1\" class=\"dataframe\">\n",
       "  <thead>\n",
       "    <tr style=\"text-align: right;\">\n",
       "      <th></th>\n",
       "      <th>pageid</th>\n",
       "      <th>ns</th>\n",
       "      <th>title</th>\n",
       "      <th>lat</th>\n",
       "      <th>lon</th>\n",
       "      <th>dist</th>\n",
       "      <th>primary</th>\n",
       "      <th>cell_id</th>\n",
       "    </tr>\n",
       "  </thead>\n",
       "  <tbody>\n",
       "    <tr>\n",
       "      <th>0</th>\n",
       "      <td>2947224.0</td>\n",
       "      <td>0.0</td>\n",
       "      <td>Улица Юннатов (Москва)</td>\n",
       "      <td>55.800111</td>\n",
       "      <td>37.561086</td>\n",
       "      <td>54.7</td>\n",
       "      <td></td>\n",
       "      <td>5979</td>\n",
       "    </tr>\n",
       "    <tr>\n",
       "      <th>1</th>\n",
       "      <td>2916119.0</td>\n",
       "      <td>0.0</td>\n",
       "      <td>Старый Петровско-Разумовский проезд</td>\n",
       "      <td>55.800000</td>\n",
       "      <td>37.559720</td>\n",
       "      <td>61.8</td>\n",
       "      <td></td>\n",
       "      <td>5979</td>\n",
       "    </tr>\n",
       "    <tr>\n",
       "      <th>2</th>\n",
       "      <td>2949219.0</td>\n",
       "      <td>0.0</td>\n",
       "      <td>Мишин проезд</td>\n",
       "      <td>55.799440</td>\n",
       "      <td>37.560560</td>\n",
       "      <td>108.3</td>\n",
       "      <td></td>\n",
       "      <td>5979</td>\n",
       "    </tr>\n",
       "    <tr>\n",
       "      <th>0</th>\n",
       "      <td>2943281.0</td>\n",
       "      <td>0.0</td>\n",
       "      <td>Верхняя Масловка</td>\n",
       "      <td>55.794689</td>\n",
       "      <td>37.562283</td>\n",
       "      <td>139.9</td>\n",
       "      <td></td>\n",
       "      <td>5981</td>\n",
       "    </tr>\n",
       "    <tr>\n",
       "      <th>0</th>\n",
       "      <td>4705216.0</td>\n",
       "      <td>0.0</td>\n",
       "      <td>Информзащита</td>\n",
       "      <td>55.793200</td>\n",
       "      <td>37.559500</td>\n",
       "      <td>68.9</td>\n",
       "      <td></td>\n",
       "      <td>5982</td>\n",
       "    </tr>\n",
       "  </tbody>\n",
       "</table>\n",
       "</div>"
      ],
      "text/plain": [
       "      pageid   ns                                title        lat        lon  \\\n",
       "0  2947224.0  0.0               Улица Юннатов (Москва)  55.800111  37.561086   \n",
       "1  2916119.0  0.0  Старый Петровско-Разумовский проезд  55.800000  37.559720   \n",
       "2  2949219.0  0.0                         Мишин проезд  55.799440  37.560560   \n",
       "0  2943281.0  0.0                     Верхняя Масловка  55.794689  37.562283   \n",
       "0  4705216.0  0.0                         Информзащита  55.793200  37.559500   \n",
       "\n",
       "    dist primary  cell_id  \n",
       "0   54.7             5979  \n",
       "1   61.8             5979  \n",
       "2  108.3             5979  \n",
       "0  139.9             5981  \n",
       "0   68.9             5982  "
      ]
     },
     "execution_count": 13,
     "metadata": {},
     "output_type": "execute_result"
    }
   ],
   "source": [
    "allData.head()"
   ]
  },
  {
   "cell_type": "code",
   "execution_count": 12,
   "metadata": {
    "ExecuteTime": {
     "end_time": "2021-02-21T13:03:19.204251Z",
     "start_time": "2021-02-21T13:03:19.147233Z"
    }
   },
   "outputs": [],
   "source": [
    "allData.to_csv('wiki_list_geosearch_500_test.csv', index = False)"
   ]
  },
  {
   "cell_type": "markdown",
   "metadata": {},
   "source": [
    "__Load data using SparQL__"
   ]
  },
  {
   "cell_type": "code",
   "execution_count": 16,
   "metadata": {
    "ExecuteTime": {
     "end_time": "2021-02-21T13:06:26.853258Z",
     "start_time": "2021-02-21T13:06:26.685978Z"
    }
   },
   "outputs": [],
   "source": [
    "lonmin, latmin, lonmax, latmax = grid.unary_union.bounds"
   ]
  },
  {
   "cell_type": "code",
   "execution_count": 31,
   "metadata": {
    "ExecuteTime": {
     "end_time": "2021-02-21T13:29:01.286174Z",
     "start_time": "2021-02-21T13:28:58.485245Z"
    }
   },
   "outputs": [],
   "source": [
    "sparql_query = \"\"\"\n",
    "SELECT ?place ?placeLabel ?location ?fame WHERE {\n",
    "  SERVICE wikibase:box {\n",
    "    ?place wdt:P625 ?location .\n",
    "    bd:serviceParam wikibase:cornerWest \"Point(\"\"\" + str(lonmin) + \"\"\" \"\"\"+  str(latmin) +\"\"\")\"^^geo:wktLiteral .\n",
    "    bd:serviceParam wikibase:cornerEast \"Point(\"\"\" + str(lonmax) + \"\"\" \"\"\"+  str(latmax) +\"\"\")\"^^geo:wktLiteral .\n",
    "  }\n",
    "  ?place wikibase:sitelinks ?fame\n",
    "  SERVICE wikibase:label {\n",
    "    bd:serviceParam wikibase:language \"ru\" . \n",
    "  }\n",
    "}\n",
    "\"\"\"\n",
    "res = return_sparql_query_results(sparql_query)"
   ]
  },
  {
   "cell_type": "code",
   "execution_count": 32,
   "metadata": {
    "ExecuteTime": {
     "end_time": "2021-02-21T13:29:04.114234Z",
     "start_time": "2021-02-21T13:29:04.073560Z"
    }
   },
   "outputs": [
    {
     "data": {
      "text/html": [
       "<div>\n",
       "<style scoped>\n",
       "    .dataframe tbody tr th:only-of-type {\n",
       "        vertical-align: middle;\n",
       "    }\n",
       "\n",
       "    .dataframe tbody tr th {\n",
       "        vertical-align: top;\n",
       "    }\n",
       "\n",
       "    .dataframe thead th {\n",
       "        text-align: right;\n",
       "    }\n",
       "</style>\n",
       "<table border=\"1\" class=\"dataframe\">\n",
       "  <thead>\n",
       "    <tr style=\"text-align: right;\">\n",
       "      <th></th>\n",
       "      <th>place</th>\n",
       "      <th>location</th>\n",
       "      <th>fame</th>\n",
       "      <th>placeLabel</th>\n",
       "    </tr>\n",
       "  </thead>\n",
       "  <tbody>\n",
       "    <tr>\n",
       "      <th>0</th>\n",
       "      <td>http://www.wikidata.org/entity/Q613676</td>\n",
       "      <td>Point(37.577222222 55.761944444)</td>\n",
       "      <td>30</td>\n",
       "      <td>Московский зоопарк</td>\n",
       "    </tr>\n",
       "    <tr>\n",
       "      <th>1</th>\n",
       "      <td>http://www.wikidata.org/entity/Q645097</td>\n",
       "      <td>Point(37.577244 55.760205)</td>\n",
       "      <td>22</td>\n",
       "      <td>Краснопресненская</td>\n",
       "    </tr>\n",
       "    <tr>\n",
       "      <th>2</th>\n",
       "      <td>http://www.wikidata.org/entity/Q657306</td>\n",
       "      <td>Point(37.571636 55.767161)</td>\n",
       "      <td>21</td>\n",
       "      <td>Собор Непорочного Зачатия Пресвятой Девы Марии</td>\n",
       "    </tr>\n",
       "    <tr>\n",
       "      <th>3</th>\n",
       "      <td>http://www.wikidata.org/entity/Q844124</td>\n",
       "      <td>Point(37.573146 55.754935)</td>\n",
       "      <td>30</td>\n",
       "      <td>Дом правительства РФ</td>\n",
       "    </tr>\n",
       "    <tr>\n",
       "      <th>4</th>\n",
       "      <td>http://www.wikidata.org/entity/Q932748</td>\n",
       "      <td>Point(37.5775 55.7675)</td>\n",
       "      <td>6</td>\n",
       "      <td>Посольство Польши в Москве</td>\n",
       "    </tr>\n",
       "  </tbody>\n",
       "</table>\n",
       "</div>"
      ],
      "text/plain": [
       "                                    place                          location  \\\n",
       "0  http://www.wikidata.org/entity/Q613676  Point(37.577222222 55.761944444)   \n",
       "1  http://www.wikidata.org/entity/Q645097        Point(37.577244 55.760205)   \n",
       "2  http://www.wikidata.org/entity/Q657306        Point(37.571636 55.767161)   \n",
       "3  http://www.wikidata.org/entity/Q844124        Point(37.573146 55.754935)   \n",
       "4  http://www.wikidata.org/entity/Q932748            Point(37.5775 55.7675)   \n",
       "\n",
       "  fame                                      placeLabel  \n",
       "0   30                              Московский зоопарк  \n",
       "1   22                               Краснопресненская  \n",
       "2   21  Собор Непорочного Зачатия Пресвятой Девы Марии  \n",
       "3   30                            Дом правительства РФ  \n",
       "4    6                      Посольство Польши в Москве  "
      ]
     },
     "execution_count": 32,
     "metadata": {},
     "output_type": "execute_result"
    }
   ],
   "source": [
    "res_df = pd.DataFrame.from_dict(res['results']['bindings'])\n",
    "\n",
    "res_df['place'] = res_df['place'].apply(lambda x: x['value'])\n",
    "res_df['location'] = res_df['location'].apply(lambda x: x['value'])\n",
    "res_df['fame'] = res_df['fame'].apply(lambda x: x['value'])\n",
    "res_df['placeLabel'] = res_df['placeLabel'].apply(lambda x: x['value'])\n",
    "\n",
    "res_df.head()"
   ]
  },
  {
   "cell_type": "code",
   "execution_count": 33,
   "metadata": {
    "ExecuteTime": {
     "end_time": "2021-02-21T13:29:12.312085Z",
     "start_time": "2021-02-21T13:29:12.303081Z"
    }
   },
   "outputs": [
    {
     "data": {
      "text/plain": [
       "3696"
      ]
     },
     "execution_count": 33,
     "metadata": {},
     "output_type": "execute_result"
    }
   ],
   "source": [
    "len(res_df)"
   ]
  },
  {
   "cell_type": "code",
   "execution_count": 34,
   "metadata": {
    "ExecuteTime": {
     "end_time": "2021-02-21T13:29:23.896712Z",
     "start_time": "2021-02-21T13:29:23.864838Z"
    }
   },
   "outputs": [],
   "source": [
    "res_df.to_csv('wiki_sparql_test.csv', index = False)"
   ]
  },
  {
   "cell_type": "markdown",
   "metadata": {},
   "source": [
    "__Get pageviews for wikidata entities__"
   ]
  },
  {
   "cell_type": "code",
   "execution_count": 110,
   "metadata": {
    "ExecuteTime": {
     "end_time": "2021-02-23T12:39:01.195647Z",
     "start_time": "2021-02-23T11:43:53.212618Z"
    },
    "collapsed": true
   },
   "outputs": [
    {
     "data": {
      "application/vnd.jupyter.widget-view+json": {
       "model_id": "41e63d9b73364a7a8792fe2c0f39b532",
       "version_major": 2,
       "version_minor": 0
      },
      "text/plain": [
       "HBox(children=(IntProgress(value=0, max=3696), HTML(value='')))"
      ]
     },
     "metadata": {},
     "output_type": "display_data"
    },
    {
     "name": "stdout",
     "output_type": "stream",
     "text": [
      "83\n",
      "86\n",
      "87\n",
      "89\n",
      "90\n",
      "92\n",
      "93\n",
      "95\n",
      "152\n",
      "176\n",
      "177\n",
      "187\n",
      "190\n",
      "191\n",
      "192\n",
      "193\n",
      "194\n",
      "195\n",
      "196\n",
      "197\n",
      "198\n",
      "199\n",
      "272\n",
      "275\n",
      "285\n",
      "286\n",
      "289\n",
      "291\n",
      "295\n",
      "310\n",
      "369\n",
      "376\n",
      "381\n",
      "382\n",
      "383\n",
      "384\n",
      "385\n",
      "396\n",
      "433\n",
      "453\n",
      "480\n",
      "482\n",
      "485\n",
      "487\n",
      "488\n",
      "489\n",
      "490\n",
      "491\n",
      "492\n",
      "493\n",
      "494\n",
      "495\n",
      "496\n",
      "497\n",
      "498\n",
      "499\n",
      "575\n",
      "576\n",
      "577\n",
      "578\n",
      "579\n",
      "581\n",
      "583\n",
      "595\n",
      "669\n",
      "683\n",
      "686\n",
      "687\n",
      "694\n",
      "695\n",
      "696\n",
      "697\n",
      "698\n",
      "699\n",
      "725\n",
      "764\n",
      "775\n",
      "776\n",
      "777\n",
      "779\n",
      "782\n",
      "783\n",
      "787\n",
      "790\n",
      "796\n",
      "797\n",
      "798\n",
      "799\n",
      "873\n",
      "892\n",
      "893\n",
      "896\n",
      "897\n",
      "898\n",
      "899\n",
      "961\n",
      "962\n",
      "974\n",
      "975\n",
      "976\n",
      "977\n",
      "993\n",
      "994\n",
      "995\n",
      "996\n",
      "997\n",
      "998\n",
      "999\n",
      "1090\n",
      "1189\n",
      "1190\n",
      "1191\n",
      "1192\n",
      "1193\n",
      "1194\n",
      "1195\n",
      "1196\n",
      "1197\n",
      "1279\n",
      "1280\n",
      "1281\n",
      "1286\n",
      "1287\n",
      "1293\n",
      "1295\n",
      "1386\n",
      "1387\n",
      "1390\n",
      "1481\n",
      "1482\n",
      "1483\n",
      "1485\n",
      "1486\n",
      "1491\n",
      "1492\n",
      "1493\n",
      "1494\n",
      "1495\n",
      "1496\n",
      "1497\n",
      "1498\n",
      "1499\n",
      "1565\n",
      "1573\n",
      "1575\n",
      "1577\n",
      "1586\n",
      "1593\n",
      "1594\n",
      "1595\n",
      "1596\n",
      "1597\n",
      "1598\n",
      "1660\n",
      "1683\n",
      "1689\n",
      "1690\n",
      "1691\n",
      "1692\n",
      "1693\n",
      "1694\n",
      "1695\n",
      "1698\n",
      "1699\n",
      "1775\n",
      "1786\n",
      "1788\n",
      "1789\n",
      "1798\n",
      "1799\n",
      "1827\n",
      "1857\n",
      "1888\n",
      "1891\n",
      "1892\n",
      "1893\n",
      "1894\n",
      "1895\n",
      "1896\n",
      "1897\n",
      "1898\n",
      "1899\n",
      "1912\n",
      "1975\n",
      "1976\n",
      "1981\n",
      "1987\n",
      "1988\n",
      "1989\n",
      "1990\n",
      "1996\n",
      "1997\n",
      "1999\n",
      "2059\n",
      "2060\n",
      "2061\n",
      "2071\n",
      "2072\n",
      "2073\n",
      "2074\n",
      "2075\n",
      "2076\n",
      "2083\n",
      "2084\n",
      "2085\n",
      "2086\n",
      "2087\n",
      "2088\n",
      "2089\n",
      "2090\n",
      "2091\n",
      "2092\n",
      "2093\n",
      "2094\n",
      "2095\n",
      "2096\n",
      "2097\n",
      "2098\n",
      "2099\n",
      "2175\n",
      "2177\n",
      "2178\n",
      "2189\n",
      "2190\n",
      "2191\n",
      "2192\n",
      "2193\n",
      "2194\n",
      "2195\n",
      "2196\n",
      "2197\n",
      "2198\n",
      "2223\n",
      "2288\n",
      "2289\n",
      "2290\n",
      "2291\n",
      "2292\n",
      "2293\n",
      "2294\n",
      "2295\n",
      "2296\n",
      "2297\n",
      "2369\n",
      "2377\n",
      "2378\n",
      "2381\n",
      "2384\n",
      "2385\n",
      "2386\n",
      "2387\n",
      "2388\n",
      "2389\n",
      "2390\n",
      "2391\n",
      "2392\n",
      "2393\n",
      "2394\n",
      "2395\n",
      "2396\n",
      "2397\n",
      "2398\n",
      "2399\n",
      "2450\n",
      "2470\n",
      "2471\n",
      "2472\n",
      "2480\n",
      "2483\n",
      "2484\n",
      "2485\n",
      "2486\n",
      "2487\n",
      "2488\n",
      "2489\n",
      "2490\n",
      "2491\n",
      "2492\n",
      "2493\n",
      "2494\n",
      "2495\n",
      "2496\n",
      "2497\n",
      "2498\n",
      "2499\n",
      "2551\n",
      "2576\n",
      "2577\n",
      "2578\n",
      "2579\n",
      "2580\n",
      "2581\n",
      "2582\n",
      "2583\n",
      "2584\n",
      "2585\n",
      "2586\n",
      "2587\n",
      "2588\n",
      "2589\n",
      "2590\n",
      "2591\n",
      "2592\n",
      "2593\n",
      "2594\n",
      "2595\n",
      "2596\n",
      "2598\n",
      "2599\n",
      "2609\n",
      "2676\n",
      "2677\n",
      "2685\n",
      "2686\n",
      "2687\n",
      "2688\n",
      "2689\n",
      "2690\n",
      "2691\n",
      "2692\n",
      "2693\n",
      "2694\n",
      "2695\n",
      "2696\n",
      "2697\n",
      "2698\n",
      "2699\n",
      "2762\n",
      "2764\n",
      "2775\n",
      "2777\n",
      "2789\n",
      "2790\n",
      "2791\n",
      "2792\n",
      "2793\n",
      "2794\n",
      "2795\n",
      "2796\n",
      "2797\n",
      "2798\n",
      "2799\n",
      "2877\n",
      "2879\n",
      "2882\n",
      "2887\n",
      "2888\n",
      "2889\n",
      "2891\n",
      "2892\n",
      "2893\n",
      "2894\n",
      "2895\n",
      "2896\n",
      "2897\n",
      "2898\n",
      "2899\n",
      "2982\n",
      "2990\n",
      "2991\n",
      "2992\n",
      "2993\n",
      "2994\n",
      "2995\n",
      "2996\n",
      "2997\n",
      "2998\n",
      "2999\n",
      "3070\n",
      "3080\n",
      "3083\n",
      "3084\n",
      "3085\n",
      "3086\n",
      "3087\n",
      "3088\n",
      "3091\n",
      "3092\n",
      "3093\n",
      "3094\n",
      "3095\n",
      "3173\n",
      "3187\n",
      "3188\n",
      "3189\n",
      "3266\n",
      "3267\n",
      "3268\n",
      "3269\n",
      "3274\n",
      "3275\n",
      "3276\n",
      "3277\n",
      "3278\n",
      "3279\n",
      "3280\n",
      "3281\n",
      "3282\n",
      "3283\n",
      "3284\n",
      "3285\n",
      "3286\n",
      "3287\n",
      "3288\n",
      "3289\n",
      "3290\n",
      "3291\n",
      "3292\n",
      "3293\n",
      "3294\n",
      "3295\n",
      "3350\n",
      "3351\n",
      "3377\n",
      "3378\n",
      "3384\n",
      "3385\n",
      "3386\n",
      "3389\n",
      "3390\n",
      "3393\n",
      "3394\n",
      "3395\n",
      "3461\n",
      "3479\n",
      "3480\n",
      "3481\n",
      "3482\n",
      "3484\n",
      "3485\n",
      "3488\n",
      "3511\n",
      "3549\n",
      "3551\n",
      "3570\n",
      "3577\n",
      "3578\n",
      "3586\n",
      "3587\n",
      "3588\n",
      "3589\n",
      "3590\n",
      "3591\n",
      "3592\n",
      "3593\n",
      "3594\n",
      "3595\n",
      "3675\n",
      "3676\n",
      "3678\n",
      "\n"
     ]
    }
   ],
   "source": [
    "for i in tqdm_notebook(res_df.index):\n",
    "    try:\n",
    "        wiki_id = res_df.loc[i, 'place'].split('/')[-1]\n",
    "        page_url = 'https://www.wikidata.org/w/api.php?action=wbgetentities&format=json&props=sitelinks'\n",
    "        params = {'ids': wiki_id,\n",
    "                 'sitefilter':'ruwiki'}\n",
    "        response = requests.get(page_url, params=params)\n",
    "        response_data = response.json()\n",
    "\n",
    "\n",
    "        page_title = response_data['entities'][wiki_id]['sitelinks']['ruwiki']['title']\n",
    "\n",
    "        title_url = 'https://ru.wikipedia.org/w/api.php?action=query&'\n",
    "\n",
    "        params = {'titles': page_title,\n",
    "                  'format': 'json',\n",
    "                  'prop': 'categories|pageviews|langlinkscount'}\n",
    "        response = requests.get(title_url, params=params)\n",
    "        response_data = response.json()\n",
    "\n",
    "        df_pages = pd.DataFrame.from_dict(response_data['query']['pages'], orient=\"index\")\n",
    "        res_df.loc[i, 'pageid'] = int(df_pages['pageid'])\n",
    "        res_df.loc[i, 'pageviews'] = np.where(df_pages['pageviews'].isnull(), 0, df_pages['pageviews'])\n",
    "        res_df.loc[i, 'count_pageviews'] = int(df_pages['pageviews'].apply(lambda x: pageviews_sum(x)))\n",
    "    except:\n",
    "        print(i)"
   ]
  },
  {
   "cell_type": "markdown",
   "metadata": {},
   "source": [
    "__Combine all wiki sourse__"
   ]
  },
  {
   "cell_type": "code",
   "execution_count": 46,
   "metadata": {
    "ExecuteTime": {
     "end_time": "2021-02-22T18:56:35.871543Z",
     "start_time": "2021-02-22T18:56:35.775085Z"
    }
   },
   "outputs": [],
   "source": [
    "allData['pageid'] = allData['pageid'].astype(int)"
   ]
  },
  {
   "cell_type": "code",
   "execution_count": 105,
   "metadata": {
    "ExecuteTime": {
     "end_time": "2021-02-23T11:42:14.435897Z",
     "start_time": "2021-02-23T11:42:14.382530Z"
    }
   },
   "outputs": [
    {
     "data": {
      "text/html": [
       "<div>\n",
       "<style scoped>\n",
       "    .dataframe tbody tr th:only-of-type {\n",
       "        vertical-align: middle;\n",
       "    }\n",
       "\n",
       "    .dataframe tbody tr th {\n",
       "        vertical-align: top;\n",
       "    }\n",
       "\n",
       "    .dataframe thead th {\n",
       "        text-align: right;\n",
       "    }\n",
       "</style>\n",
       "<table border=\"1\" class=\"dataframe\">\n",
       "  <thead>\n",
       "    <tr style=\"text-align: right;\">\n",
       "      <th></th>\n",
       "      <th>pageid</th>\n",
       "      <th>title</th>\n",
       "      <th>lon</th>\n",
       "      <th>lat</th>\n",
       "      <th>pageviews</th>\n",
       "      <th>count_pageviews</th>\n",
       "    </tr>\n",
       "  </thead>\n",
       "  <tbody>\n",
       "    <tr>\n",
       "      <th>0</th>\n",
       "      <td>2916119</td>\n",
       "      <td>Старый Петровско-Разумовский проезд</td>\n",
       "      <td>37.559720</td>\n",
       "      <td>55.800000</td>\n",
       "      <td>{'2020-12-23': 5, '2020-12-24': 1, '2020-12-25...</td>\n",
       "      <td>91</td>\n",
       "    </tr>\n",
       "    <tr>\n",
       "      <th>1</th>\n",
       "      <td>2947224</td>\n",
       "      <td>Улица Юннатов (Москва)</td>\n",
       "      <td>37.561086</td>\n",
       "      <td>55.800111</td>\n",
       "      <td>{'2020-12-23': 1, '2020-12-24': 4, '2020-12-25...</td>\n",
       "      <td>130</td>\n",
       "    </tr>\n",
       "    <tr>\n",
       "      <th>2</th>\n",
       "      <td>2949219</td>\n",
       "      <td>Мишин проезд</td>\n",
       "      <td>37.560560</td>\n",
       "      <td>55.799440</td>\n",
       "      <td>{'2020-12-23': 0, '2020-12-24': 0, '2020-12-25...</td>\n",
       "      <td>29</td>\n",
       "    </tr>\n",
       "    <tr>\n",
       "      <th>3</th>\n",
       "      <td>2943281</td>\n",
       "      <td>Верхняя Масловка</td>\n",
       "      <td>37.562283</td>\n",
       "      <td>55.794689</td>\n",
       "      <td>{'2020-12-23': 6, '2020-12-24': 7, '2020-12-25...</td>\n",
       "      <td>409</td>\n",
       "    </tr>\n",
       "    <tr>\n",
       "      <th>4</th>\n",
       "      <td>4705216</td>\n",
       "      <td>Информзащита</td>\n",
       "      <td>37.559500</td>\n",
       "      <td>55.793200</td>\n",
       "      <td>{'2020-12-23': 12, '2020-12-24': 11, '2020-12-...</td>\n",
       "      <td>413</td>\n",
       "    </tr>\n",
       "  </tbody>\n",
       "</table>\n",
       "</div>"
      ],
      "text/plain": [
       "    pageid                                title        lon        lat  \\\n",
       "0  2916119  Старый Петровско-Разумовский проезд  37.559720  55.800000   \n",
       "1  2947224               Улица Юннатов (Москва)  37.561086  55.800111   \n",
       "2  2949219                         Мишин проезд  37.560560  55.799440   \n",
       "3  2943281                     Верхняя Масловка  37.562283  55.794689   \n",
       "4  4705216                         Информзащита  37.559500  55.793200   \n",
       "\n",
       "                                           pageviews  count_pageviews  \n",
       "0  {'2020-12-23': 5, '2020-12-24': 1, '2020-12-25...               91  \n",
       "1  {'2020-12-23': 1, '2020-12-24': 4, '2020-12-25...              130  \n",
       "2  {'2020-12-23': 0, '2020-12-24': 0, '2020-12-25...               29  \n",
       "3  {'2020-12-23': 6, '2020-12-24': 7, '2020-12-25...              409  \n",
       "4  {'2020-12-23': 12, '2020-12-24': 11, '2020-12-...              413  "
      ]
     },
     "execution_count": 105,
     "metadata": {},
     "output_type": "execute_result"
    }
   ],
   "source": [
    "combine_geosearch = pd.merge(allData2, allData, on = ['pageid', 'title'], how = 'left')\n",
    "\n",
    "combine_geosearch['lon'] = np.where((combine_geosearch['lon_x'] == 0) & \\\n",
    "                           (combine_geosearch['lon_y']!=0), combine_geosearch['lon_y'], combine_geosearch['lon_x'])\n",
    "\n",
    "combine_geosearch['lat'] = np.where((combine_geosearch['lat_x'] == 0) & \\\n",
    "                           (combine_geosearch['lat_y']!=0), combine_geosearch['lat_y'], combine_geosearch['lat_x'])\n",
    "\n",
    "cols = ['pageid', 'title', 'lon', 'lat', 'pageviews', 'count_pageviews']\n",
    "combine_geosearch = combine_geosearch[cols]\n",
    "\n",
    "combine_geosearch.head()"
   ]
  },
  {
   "cell_type": "code",
   "execution_count": 117,
   "metadata": {
    "ExecuteTime": {
     "end_time": "2021-02-23T12:57:57.921068Z",
     "start_time": "2021-02-23T12:57:57.905324Z"
    }
   },
   "outputs": [],
   "source": [
    "res_df = res_df.dropna(subset = ['pageid', 'placeLabel'])\n",
    "res_df['pageid'] = res_df['pageid'].astype(int)\n",
    "res_df = res_df.rename(columns = {'placeLabel':'title'})\n",
    "\n",
    "res_df['lon'] = res_df['location'].apply(lambda x: loads(x).x)\n",
    "res_df['lat'] = res_df['location'].apply(lambda x: loads(x).y)\n",
    "\n",
    "res_df = res_df[cols]"
   ]
  },
  {
   "cell_type": "code",
   "execution_count": 138,
   "metadata": {
    "ExecuteTime": {
     "end_time": "2021-02-23T13:56:17.530539Z",
     "start_time": "2021-02-23T13:56:17.490817Z"
    }
   },
   "outputs": [],
   "source": [
    "allWiki = combine_geosearch.append(res_df)\n",
    "\n",
    "allWiki = allWiki.drop_duplicates(subset = ['pageid', 'title'])\n",
    "\n",
    "len(allWiki)"
   ]
  },
  {
   "cell_type": "code",
   "execution_count": 145,
   "metadata": {
    "ExecuteTime": {
     "end_time": "2021-02-23T14:00:40.053571Z",
     "start_time": "2021-02-23T14:00:39.418788Z"
    }
   },
   "outputs": [],
   "source": [
    "allWiki.to_csv('data/wikipedia_geodata_{}_test.csv'.format(date.today().strftime(\"%Y%m%d\")), index = False)"
   ]
  }
 ],
 "metadata": {
  "kernelspec": {
   "display_name": "Python 3",
   "language": "python",
   "name": "python3"
  },
  "language_info": {
   "codemirror_mode": {
    "name": "ipython",
    "version": 3
   },
   "file_extension": ".py",
   "mimetype": "text/x-python",
   "name": "python",
   "nbconvert_exporter": "python",
   "pygments_lexer": "ipython3",
   "version": "3.7.4"
  },
  "toc": {
   "base_numbering": 1,
   "nav_menu": {},
   "number_sections": true,
   "sideBar": true,
   "skip_h1_title": false,
   "title_cell": "Table of Contents",
   "title_sidebar": "Contents",
   "toc_cell": false,
   "toc_position": {},
   "toc_section_display": true,
   "toc_window_display": false
  }
 },
 "nbformat": 4,
 "nbformat_minor": 2
}
