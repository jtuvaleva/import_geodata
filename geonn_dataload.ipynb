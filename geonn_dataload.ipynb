{
 "cells": [
  {
   "cell_type": "code",
   "execution_count": 2,
   "metadata": {
    "ExecuteTime": {
     "end_time": "2021-02-06T21:13:56.460579Z",
     "start_time": "2021-02-06T21:13:55.091095Z"
    }
   },
   "outputs": [],
   "source": [
    "import json\n",
    "import time\n",
    "import requests\n",
    "import pandas as pd\n",
    "import geopandas as gpd\n",
    "from shapely.geometry import Polygon, MultiPolygon, shape\n",
    "from tqdm import tqdm_notebook"
   ]
  },
  {
   "cell_type": "code",
   "execution_count": 3,
   "metadata": {
    "ExecuteTime": {
     "end_time": "2021-02-06T21:13:56.612703Z",
     "start_time": "2021-02-06T21:13:56.463816Z"
    }
   },
   "outputs": [],
   "source": [
    "grid = gpd.read_file('/Users/juliatuvaleva/Documents/marchi/grid_nn_adm_2km.geojson')"
   ]
  },
  {
   "cell_type": "code",
   "execution_count": 182,
   "metadata": {
    "ExecuteTime": {
     "end_time": "2021-02-06T17:05:54.449782Z",
     "start_time": "2021-02-06T17:05:54.159730Z"
    }
   },
   "outputs": [],
   "source": [
    "u1 = 'https://geonn.grad-nn.ru/proxy.php?url=http%3A%2F%2Flocalhost%3A8080%2Fgeoserver%2FORCL_PORTAL%2Fows%3Fservice%3DWFS%26version%3D1.0.0%26request%3DGetFeature%26outputFormat%3Dapplication%252Fjson%26typeName%3DORCL_PORTAL%3AV_PORTAL2_EXIST_BUILDINGS_G%26CQL_FILTER%3DBBOX(GEOMETRY%2C4891202.585768893%2C7625609.351990765%2C4894501.868473824%2C7626775.779063208)'\n",
    "#u1 = 'https://geonn.grad-nn.ru/proxy.php?url=http%3A%2F%2Flocalhost%3A8080%2Fgeoserver%2FORCL_PORTAL%2Fows%3Fservice%3DWFS%26version%3D1.0.0%26request%3DGetFeature%26outputFormat%3Dapplication%252Fjson%26typeName%3DORCL_PORTAL%3AGEO_ADDRESS%26CQL_FILTER%3DBBOX(GEOMETRY%2C4891202.585768893%2C7625609.351990765%2C4894501.868473824%2C7626775.779063208)'\n",
    "\n",
    "response = requests.get(u1)"
   ]
  },
  {
   "cell_type": "code",
   "execution_count": 190,
   "metadata": {
    "ExecuteTime": {
     "end_time": "2021-02-06T17:08:38.165460Z",
     "start_time": "2021-02-06T17:08:38.158547Z"
    }
   },
   "outputs": [],
   "source": [
    "request_url = 'https://geonn.grad-nn.ru/proxy.php?url=http%3A%2F%2Flocalhost%3A8080%2Fgeoserver%2FORCL_PORTAL%2Fows%3Fservice%3DWFS%26version%3D1.0.0%26request%3DGetFeature%26outputFormat%3Dapplication%252Fjson%26typeName%3DORCL_PORTAL%3AV_PORTAL2_EXIST_BUILDINGS_G%26CQL_FILTER'"
   ]
  },
  {
   "cell_type": "code",
   "execution_count": 256,
   "metadata": {
    "ExecuteTime": {
     "end_time": "2021-02-06T17:48:37.674957Z",
     "start_time": "2021-02-06T17:48:37.652391Z"
    }
   },
   "outputs": [],
   "source": [
    "all_geom = gpd.GeoDataFrame()"
   ]
  },
  {
   "cell_type": "code",
   "execution_count": 257,
   "metadata": {
    "ExecuteTime": {
     "end_time": "2021-02-06T17:48:38.030075Z",
     "start_time": "2021-02-06T17:48:38.014779Z"
    }
   },
   "outputs": [],
   "source": [
    "fail_id = []"
   ]
  },
  {
   "cell_type": "code",
   "execution_count": 258,
   "metadata": {
    "ExecuteTime": {
     "end_time": "2021-02-06T17:50:58.122239Z",
     "start_time": "2021-02-06T17:48:38.931784Z"
    }
   },
   "outputs": [
    {
     "data": {
      "application/vnd.jupyter.widget-view+json": {
       "model_id": "46f4690d24c34079a3eca2004dec581f",
       "version_major": 2,
       "version_minor": 0
      },
      "text/plain": [
       "HBox(children=(IntProgress(value=0, max=459), HTML(value='')))"
      ]
     },
     "metadata": {},
     "output_type": "display_data"
    },
    {
     "name": "stdout",
     "output_type": "stream",
     "text": [
      "\n"
     ]
    }
   ],
   "source": [
    "for i in tqdm_notebook(grid.index):\n",
    "    try:\n",
    "        lonmin = grid.loc[i, 'left']\n",
    "        latmin = grid.loc[i, 'bottom']\n",
    "        lonmax = grid.loc[i, 'right']\n",
    "        latmax = grid.loc[i, 'top']\n",
    "\n",
    "        bbox = '%3DBBOX(GEOMETRY%2C{}%2C{}%2C{}%2C{})'.format(lonmin, latmin, lonmax, latmax)\n",
    "        response_geo = requests.get(request_url+bbox)\n",
    "\n",
    "        df = response_geo.json()\n",
    "        target_bbox_geom = pd.DataFrame(df['features'])\n",
    "        target_bbox_geom['geometry'] = target_bbox_geom['geometry'].apply(lambda x: shape(x))\n",
    "        target_bbox_geom['bldg_id'] = target_bbox_geom['id'].apply(lambda x: x.split('G.')[1])\n",
    "        target_bbox_geom = target_bbox_geom[['bldg_id', 'geometry']]\n",
    "        all_geom  = all_geom.append(target_bbox_geom)\n",
    "    except:\n",
    "        fail_id.append(i)"
   ]
  },
  {
   "cell_type": "code",
   "execution_count": 259,
   "metadata": {
    "ExecuteTime": {
     "end_time": "2021-02-06T17:51:02.404842Z",
     "start_time": "2021-02-06T17:50:59.107481Z"
    }
   },
   "outputs": [],
   "source": [
    "all_geom = all_geom.drop_duplicates(subset = 'bldg_id')\n",
    "if len(all_geom.bldg_id.unique()) == len(all_geom):\n",
    "    all_geom.to_csv('/Users/juliatuvaleva/Documents/marchi/geonn/nn_bldg_geom.csv', index = False)\n",
    "else:\n",
    "    print('Check data')"
   ]
  },
  {
   "cell_type": "code",
   "execution_count": 260,
   "metadata": {
    "ExecuteTime": {
     "end_time": "2021-02-06T17:52:43.123401Z",
     "start_time": "2021-02-06T17:52:43.090235Z"
    }
   },
   "outputs": [
    {
     "data": {
      "text/plain": [
       "57410"
      ]
     },
     "execution_count": 260,
     "metadata": {},
     "output_type": "execute_result"
    }
   ],
   "source": [
    "len(all_geom)"
   ]
  },
  {
   "cell_type": "code",
   "execution_count": 4,
   "metadata": {
    "ExecuteTime": {
     "end_time": "2021-02-06T21:14:07.776952Z",
     "start_time": "2021-02-06T21:14:07.695828Z"
    }
   },
   "outputs": [],
   "source": [
    "part4 = pd.read_csv('/Users/juliatuvaleva/Documents/marchi/geonn/part4_geom.csv')\n",
    "all_geom = part4"
   ]
  },
  {
   "cell_type": "code",
   "execution_count": 5,
   "metadata": {
    "ExecuteTime": {
     "end_time": "2021-02-06T21:14:08.125749Z",
     "start_time": "2021-02-06T21:14:08.109297Z"
    }
   },
   "outputs": [],
   "source": [
    "all_geom = all_geom.reset_index(drop = True)"
   ]
  },
  {
   "cell_type": "code",
   "execution_count": 6,
   "metadata": {
    "ExecuteTime": {
     "end_time": "2021-02-06T21:14:08.651389Z",
     "start_time": "2021-02-06T21:14:08.623302Z"
    }
   },
   "outputs": [
    {
     "data": {
      "text/html": [
       "<div>\n",
       "<style scoped>\n",
       "    .dataframe tbody tr th:only-of-type {\n",
       "        vertical-align: middle;\n",
       "    }\n",
       "\n",
       "    .dataframe tbody tr th {\n",
       "        vertical-align: top;\n",
       "    }\n",
       "\n",
       "    .dataframe thead th {\n",
       "        text-align: right;\n",
       "    }\n",
       "</style>\n",
       "<table border=\"1\" class=\"dataframe\">\n",
       "  <thead>\n",
       "    <tr style=\"text-align: right;\">\n",
       "      <th></th>\n",
       "      <th>bldg_id</th>\n",
       "      <th>geometry</th>\n",
       "    </tr>\n",
       "  </thead>\n",
       "  <tbody>\n",
       "    <tr>\n",
       "      <th>0</th>\n",
       "      <td>100351821</td>\n",
       "      <td>POLYGON Z ((4883424.11956191 7629935.31429569 ...</td>\n",
       "    </tr>\n",
       "    <tr>\n",
       "      <th>1</th>\n",
       "      <td>100393479</td>\n",
       "      <td>POLYGON Z ((4883268.90512601 7629947.60106258 ...</td>\n",
       "    </tr>\n",
       "    <tr>\n",
       "      <th>2</th>\n",
       "      <td>100352234</td>\n",
       "      <td>POLYGON Z ((4883469.96690046 7629965.00200922 ...</td>\n",
       "    </tr>\n",
       "    <tr>\n",
       "      <th>3</th>\n",
       "      <td>100375824</td>\n",
       "      <td>POLYGON Z ((4883371.30793866 7629966.00013855 ...</td>\n",
       "    </tr>\n",
       "    <tr>\n",
       "      <th>4</th>\n",
       "      <td>100350143</td>\n",
       "      <td>POLYGON Z ((4883354.13286506 7629982.61547146 ...</td>\n",
       "    </tr>\n",
       "  </tbody>\n",
       "</table>\n",
       "</div>"
      ],
      "text/plain": [
       "     bldg_id                                           geometry\n",
       "0  100351821  POLYGON Z ((4883424.11956191 7629935.31429569 ...\n",
       "1  100393479  POLYGON Z ((4883268.90512601 7629947.60106258 ...\n",
       "2  100352234  POLYGON Z ((4883469.96690046 7629965.00200922 ...\n",
       "3  100375824  POLYGON Z ((4883371.30793866 7629966.00013855 ...\n",
       "4  100350143  POLYGON Z ((4883354.13286506 7629982.61547146 ..."
      ]
     },
     "execution_count": 6,
     "metadata": {},
     "output_type": "execute_result"
    }
   ],
   "source": [
    "all_geom.head()"
   ]
  },
  {
   "cell_type": "code",
   "execution_count": 7,
   "metadata": {
    "ExecuteTime": {
     "end_time": "2021-02-06T21:14:12.491277Z",
     "start_time": "2021-02-06T21:14:12.483550Z"
    }
   },
   "outputs": [],
   "source": [
    "all_bldg_attr = pd.DataFrame()"
   ]
  },
  {
   "cell_type": "code",
   "execution_count": 8,
   "metadata": {
    "ExecuteTime": {
     "end_time": "2021-02-06T21:14:12.765506Z",
     "start_time": "2021-02-06T21:14:12.760837Z"
    }
   },
   "outputs": [],
   "source": [
    "fail_attr = []"
   ]
  },
  {
   "cell_type": "code",
   "execution_count": 9,
   "metadata": {
    "ExecuteTime": {
     "end_time": "2021-02-06T22:53:15.103198Z",
     "start_time": "2021-02-06T21:14:15.365980Z"
    }
   },
   "outputs": [
    {
     "data": {
      "application/vnd.jupyter.widget-view+json": {
       "model_id": "bfa440bbef0b431f870738d5a44ec9ab",
       "version_major": 2,
       "version_minor": 0
      },
      "text/plain": [
       "HBox(children=(IntProgress(value=0, max=10335), HTML(value='')))"
      ]
     },
     "metadata": {},
     "output_type": "display_data"
    },
    {
     "name": "stdout",
     "output_type": "stream",
     "text": [
      "\n"
     ]
    }
   ],
   "source": [
    "for i in tqdm_notebook(all_geom.index):\n",
    "    try:\n",
    "        bldg_id = all_geom.loc[i, 'bldg_id']\n",
    "        bldg_url = 'https://geonn.grad-nn.ru/proxy.php?url=http%3A%2F%2Flocalhost%3A8080%2Fgeoserver%2FORCL_PORTAL%2Fows%3Fservice%3DWFS%26version%3D1.0.0%26request%3DGetFeature%26outputFormat%3Dapplication%252Fjson%26typeName%3DORCL_PORTAL%3AV_PORTAL2_EXIST_BUILDINGS_A%26featureID%3DV_PORTAL2_EXIST_BUILDINGS_A.{}'.format(bldg_id)\n",
    "\n",
    "        response_attr = requests.get(bldg_url)\n",
    "        df_attr = response_attr.json()\n",
    "        df_tmp = pd.DataFrame(df_attr['features'])\n",
    "        all_bldg_attr = all_bldg_attr.append(df_tmp)\n",
    "    except:\n",
    "        fail_attr.append(i)\n",
    "        "
   ]
  },
  {
   "cell_type": "code",
   "execution_count": 10,
   "metadata": {
    "ExecuteTime": {
     "end_time": "2021-02-06T22:53:15.170164Z",
     "start_time": "2021-02-06T22:53:15.113018Z"
    }
   },
   "outputs": [],
   "source": [
    "all_bldg_attr = all_bldg_attr.reset_index(drop = True)\n",
    "\n",
    "all_bldg_attr['BUILD_NAME'] = all_bldg_attr['properties'].apply(lambda x: x['BUILD_NAME'])\n",
    "all_bldg_attr['FLOORS'] = all_bldg_attr['properties'].apply(lambda x: x['FLOORS'])\n",
    "all_bldg_attr['FUNCTIONALITY_NAME'] = all_bldg_attr['properties'].apply(lambda x: x['FUNCTIONALITY_NAME'])\n",
    "all_bldg_attr['BUILDINGS_CONDITION_NAME'] = all_bldg_attr['properties'].apply(lambda x: x['BUILDINGS_CONDITION_NAME'])\n",
    "all_bldg_attr['ADDRESS'] = all_bldg_attr['properties'].apply(lambda x: x['ADDRESS'])\n",
    "all_bldg_attr['BUILD_YEAR'] = all_bldg_attr['properties'].apply(lambda x: x['BUILD_YEAR'])\n",
    "all_bldg_attr['BUILDING_STATE'] = all_bldg_attr['properties'].apply(lambda x: x['BUILDING_STATE'])\n"
   ]
  },
  {
   "cell_type": "code",
   "execution_count": 11,
   "metadata": {
    "ExecuteTime": {
     "end_time": "2021-02-06T22:53:15.192208Z",
     "start_time": "2021-02-06T22:53:15.174446Z"
    }
   },
   "outputs": [],
   "source": [
    "all_bldg_text_description = all_bldg_attr[['id', 'BUILDING_STATE']]"
   ]
  },
  {
   "cell_type": "code",
   "execution_count": 12,
   "metadata": {
    "ExecuteTime": {
     "end_time": "2021-02-06T22:53:15.222448Z",
     "start_time": "2021-02-06T22:53:15.199962Z"
    }
   },
   "outputs": [],
   "source": [
    "all_bldg_attr = all_bldg_attr.drop(labels = ['type','geometry', 'properties', 'BUILDING_STATE'], axis = 1)"
   ]
  },
  {
   "cell_type": "code",
   "execution_count": 13,
   "metadata": {
    "ExecuteTime": {
     "end_time": "2021-02-06T22:53:15.238081Z",
     "start_time": "2021-02-06T22:53:15.228634Z"
    }
   },
   "outputs": [
    {
     "data": {
      "text/plain": [
       "2846"
      ]
     },
     "execution_count": 13,
     "metadata": {},
     "output_type": "execute_result"
    }
   ],
   "source": [
    "len(all_bldg_attr)"
   ]
  },
  {
   "cell_type": "code",
   "execution_count": 14,
   "metadata": {
    "ExecuteTime": {
     "end_time": "2021-02-06T22:53:15.265658Z",
     "start_time": "2021-02-06T22:53:15.241910Z"
    }
   },
   "outputs": [
    {
     "data": {
      "text/html": [
       "<div>\n",
       "<style scoped>\n",
       "    .dataframe tbody tr th:only-of-type {\n",
       "        vertical-align: middle;\n",
       "    }\n",
       "\n",
       "    .dataframe tbody tr th {\n",
       "        vertical-align: top;\n",
       "    }\n",
       "\n",
       "    .dataframe thead th {\n",
       "        text-align: right;\n",
       "    }\n",
       "</style>\n",
       "<table border=\"1\" class=\"dataframe\">\n",
       "  <thead>\n",
       "    <tr style=\"text-align: right;\">\n",
       "      <th></th>\n",
       "      <th>id</th>\n",
       "      <th>BUILD_NAME</th>\n",
       "      <th>FLOORS</th>\n",
       "      <th>FUNCTIONALITY_NAME</th>\n",
       "      <th>BUILDINGS_CONDITION_NAME</th>\n",
       "      <th>ADDRESS</th>\n",
       "      <th>BUILD_YEAR</th>\n",
       "    </tr>\n",
       "  </thead>\n",
       "  <tbody>\n",
       "    <tr>\n",
       "      <th>0</th>\n",
       "      <td>V_PORTAL2_EXIST_BUILDINGS_A.100352234</td>\n",
       "      <td>None</td>\n",
       "      <td>1.0</td>\n",
       "      <td>нет данных</td>\n",
       "      <td>существующее</td>\n",
       "      <td>Нижний Новгород г, Баррикад улица, д.1</td>\n",
       "      <td>1900</td>\n",
       "    </tr>\n",
       "    <tr>\n",
       "      <th>1</th>\n",
       "      <td>V_PORTAL2_EXIST_BUILDINGS_A.100375824</td>\n",
       "      <td>None</td>\n",
       "      <td>2.0</td>\n",
       "      <td>нет данных</td>\n",
       "      <td>существующее</td>\n",
       "      <td>Нижний Новгород г, Баррикад улица, д.14</td>\n",
       "      <td>1917</td>\n",
       "    </tr>\n",
       "    <tr>\n",
       "      <th>2</th>\n",
       "      <td>V_PORTAL2_EXIST_BUILDINGS_A.100350143</td>\n",
       "      <td>None</td>\n",
       "      <td>1.0</td>\n",
       "      <td>нет данных</td>\n",
       "      <td>существующее</td>\n",
       "      <td>Нижний Новгород г, Баррикад улица, д.14 лит. Г</td>\n",
       "      <td>1988</td>\n",
       "    </tr>\n",
       "    <tr>\n",
       "      <th>3</th>\n",
       "      <td>V_PORTAL2_EXIST_BUILDINGS_A.100400378</td>\n",
       "      <td>здание главной конторы</td>\n",
       "      <td>4.0</td>\n",
       "      <td>промышленности</td>\n",
       "      <td>существующее</td>\n",
       "      <td>Нижний Новгород г, Баррикад улица, д.1</td>\n",
       "      <td>1905</td>\n",
       "    </tr>\n",
       "    <tr>\n",
       "      <th>4</th>\n",
       "      <td>V_PORTAL2_EXIST_BUILDINGS_A.100395619</td>\n",
       "      <td>None</td>\n",
       "      <td>1.0</td>\n",
       "      <td>нет данных</td>\n",
       "      <td>существующее</td>\n",
       "      <td>Нижний Новгород г, Баррикад улица, д.22</td>\n",
       "      <td>2010</td>\n",
       "    </tr>\n",
       "  </tbody>\n",
       "</table>\n",
       "</div>"
      ],
      "text/plain": [
       "                                      id                      BUILD_NAME  \\\n",
       "0  V_PORTAL2_EXIST_BUILDINGS_A.100352234                            None   \n",
       "1  V_PORTAL2_EXIST_BUILDINGS_A.100375824                            None   \n",
       "2  V_PORTAL2_EXIST_BUILDINGS_A.100350143                            None   \n",
       "3  V_PORTAL2_EXIST_BUILDINGS_A.100400378  здание главной конторы           \n",
       "4  V_PORTAL2_EXIST_BUILDINGS_A.100395619                            None   \n",
       "\n",
       "   FLOORS FUNCTIONALITY_NAME BUILDINGS_CONDITION_NAME  \\\n",
       "0     1.0         нет данных             существующее   \n",
       "1     2.0         нет данных             существующее   \n",
       "2     1.0         нет данных             существующее   \n",
       "3     4.0     промышленности             существующее   \n",
       "4     1.0         нет данных             существующее   \n",
       "\n",
       "                                          ADDRESS BUILD_YEAR  \n",
       "0          Нижний Новгород г, Баррикад улица, д.1       1900  \n",
       "1         Нижний Новгород г, Баррикад улица, д.14       1917  \n",
       "2  Нижний Новгород г, Баррикад улица, д.14 лит. Г       1988  \n",
       "3          Нижний Новгород г, Баррикад улица, д.1       1905  \n",
       "4         Нижний Новгород г, Баррикад улица, д.22       2010  "
      ]
     },
     "execution_count": 14,
     "metadata": {},
     "output_type": "execute_result"
    }
   ],
   "source": [
    "all_bldg_attr.head()"
   ]
  },
  {
   "cell_type": "code",
   "execution_count": 15,
   "metadata": {
    "ExecuteTime": {
     "end_time": "2021-02-06T22:53:15.284931Z",
     "start_time": "2021-02-06T22:53:15.273316Z"
    }
   },
   "outputs": [],
   "source": [
    "all_bldg_attr['bldg_id'] = all_bldg_attr['id'].apply(lambda x: x.split('A.')[1]).astype(int)"
   ]
  },
  {
   "cell_type": "code",
   "execution_count": 16,
   "metadata": {
    "ExecuteTime": {
     "end_time": "2021-02-06T22:53:15.311306Z",
     "start_time": "2021-02-06T22:53:15.289712Z"
    }
   },
   "outputs": [],
   "source": [
    "all_geom_with_attr = pd.merge(all_geom, all_bldg_attr, on = 'bldg_id', how = 'inner')"
   ]
  },
  {
   "cell_type": "code",
   "execution_count": 17,
   "metadata": {
    "ExecuteTime": {
     "end_time": "2021-02-06T22:53:15.402102Z",
     "start_time": "2021-02-06T22:53:15.313518Z"
    }
   },
   "outputs": [],
   "source": [
    "all_geom_with_attr.to_csv('/Users/juliatuvaleva/Documents/marchi/geonn/nn_bldg_geom+attr_part4.csv', index = False)"
   ]
  },
  {
   "cell_type": "code",
   "execution_count": 18,
   "metadata": {
    "ExecuteTime": {
     "end_time": "2021-02-06T22:53:15.487423Z",
     "start_time": "2021-02-06T22:53:15.406402Z"
    }
   },
   "outputs": [],
   "source": [
    "all_bldg_text_description.to_csv('/Users/juliatuvaleva/Documents/marchi/geonn/nn_bldg_text_part4.csv', index = False)"
   ]
  },
  {
   "cell_type": "code",
   "execution_count": null,
   "metadata": {},
   "outputs": [],
   "source": [
    "df_tmp['properties'][0]['BUILD_NAME']"
   ]
  },
  {
   "cell_type": "code",
   "execution_count": 220,
   "metadata": {
    "ExecuteTime": {
     "end_time": "2021-02-06T17:29:16.767391Z",
     "start_time": "2021-02-06T17:29:16.762908Z"
    }
   },
   "outputs": [],
   "source": [
    "bldg_id = 100403056"
   ]
  },
  {
   "cell_type": "code",
   "execution_count": 221,
   "metadata": {
    "ExecuteTime": {
     "end_time": "2021-02-06T17:29:18.387209Z",
     "start_time": "2021-02-06T17:29:17.516453Z"
    }
   },
   "outputs": [],
   "source": [
    "bldg_url = 'https://geonn.grad-nn.ru/proxy.php?url=http%3A%2F%2Flocalhost%3A8080%2Fgeoserver%2FORCL_PORTAL%2Fows%3Fservice%3DWFS%26version%3D1.0.0%26request%3DGetFeature%26outputFormat%3Dapplication%252Fjson%26typeName%3DORCL_PORTAL%3AV_PORTAL2_EXIST_BUILDINGS_A%26featureID%3DV_PORTAL2_EXIST_BUILDINGS_A.{}'.format(bldg_id)\n",
    "\n",
    "response_attr = requests.get(bldg_url)"
   ]
  },
  {
   "cell_type": "code",
   "execution_count": 223,
   "metadata": {
    "ExecuteTime": {
     "end_time": "2021-02-06T17:29:33.955751Z",
     "start_time": "2021-02-06T17:29:33.941530Z"
    }
   },
   "outputs": [
    {
     "data": {
      "text/plain": [
       "{'type': 'FeatureCollection',\n",
       " 'totalFeatures': 1,\n",
       " 'features': [{'type': 'Feature',\n",
       "   'id': 'V_PORTAL2_EXIST_BUILDINGS_A.100403056',\n",
       "   'geometry': None,\n",
       "   'properties': {'BUILD_NAME': 'Индивидуальный жилой дом',\n",
       "    'FLOORS': 3,\n",
       "    'FUNCTIONALITY_NAME': 'ОБЪЕКТЫ ЖИЛОГО НАЗНАЧЕНИЯ',\n",
       "    'BUILDINGS_CONDITION_NAME': 'существующее',\n",
       "    'ADDRESS': 'Нижний Новгород г, Богатырская улица, д.9',\n",
       "    'POST_INDEX': None,\n",
       "    'BUILD_YEAR': '2017',\n",
       "    'BUILDING_STATE': 'В целях решения социальной задачи ликвидации ветхого фонда Городская Дума Нижнего Новгорода постановлением от 31.01.2007 №4 (с последующими дополнениями) утвердила муниципальную адресную программу сноса и реконструкции ветхого и сноса аварийного жилищного фонда в городе Нижнем Новгороде. \\nВ адресный перечень ветхих домов, планируемых к сносу, в составе указанной программы включены жилые дома с износом выше 65 процентов.\\nУчитывая то, что износ данного дома по данным БТИ ниже, этот дом в указанную программу не включен.\\n\\nСуществующий объект соответствует градостроительным регламентам данной зоны, основания для его сноса отсутствуют.'}}],\n",
       " 'crs': None}"
      ]
     },
     "execution_count": 223,
     "metadata": {},
     "output_type": "execute_result"
    }
   ],
   "source": [
    "df_attr = response_attr.json()\n",
    "df_attr"
   ]
  },
  {
   "cell_type": "code",
   "execution_count": 269,
   "metadata": {
    "ExecuteTime": {
     "end_time": "2021-02-06T17:55:28.646236Z",
     "start_time": "2021-02-06T17:55:28.635465Z"
    }
   },
   "outputs": [],
   "source": [
    "df_tmp = pd.DataFrame(df_attr['features'])"
   ]
  },
  {
   "cell_type": "code",
   "execution_count": 270,
   "metadata": {
    "ExecuteTime": {
     "end_time": "2021-02-06T17:55:32.707185Z",
     "start_time": "2021-02-06T17:55:32.667087Z"
    }
   },
   "outputs": [
    {
     "data": {
      "text/html": [
       "<div>\n",
       "<style scoped>\n",
       "    .dataframe tbody tr th:only-of-type {\n",
       "        vertical-align: middle;\n",
       "    }\n",
       "\n",
       "    .dataframe tbody tr th {\n",
       "        vertical-align: top;\n",
       "    }\n",
       "\n",
       "    .dataframe thead th {\n",
       "        text-align: right;\n",
       "    }\n",
       "</style>\n",
       "<table border=\"1\" class=\"dataframe\">\n",
       "  <thead>\n",
       "    <tr style=\"text-align: right;\">\n",
       "      <th></th>\n",
       "      <th>type</th>\n",
       "      <th>id</th>\n",
       "      <th>geometry</th>\n",
       "      <th>properties</th>\n",
       "    </tr>\n",
       "  </thead>\n",
       "  <tbody>\n",
       "    <tr>\n",
       "      <th>0</th>\n",
       "      <td>Feature</td>\n",
       "      <td>V_PORTAL2_EXIST_BUILDINGS_A.100403056</td>\n",
       "      <td>None</td>\n",
       "      <td>{'BUILD_NAME': 'Индивидуальный жилой дом', 'FL...</td>\n",
       "    </tr>\n",
       "  </tbody>\n",
       "</table>\n",
       "</div>"
      ],
      "text/plain": [
       "      type                                     id geometry  \\\n",
       "0  Feature  V_PORTAL2_EXIST_BUILDINGS_A.100403056     None   \n",
       "\n",
       "                                          properties  \n",
       "0  {'BUILD_NAME': 'Индивидуальный жилой дом', 'FL...  "
      ]
     },
     "execution_count": 270,
     "metadata": {},
     "output_type": "execute_result"
    }
   ],
   "source": [
    "df_tmp.head()"
   ]
  },
  {
   "cell_type": "code",
   "execution_count": null,
   "metadata": {},
   "outputs": [],
   "source": [
    "df_tmp[''] = df_tmp['properties'][0]['BUILD_NAME']"
   ]
  },
  {
   "cell_type": "code",
   "execution_count": 273,
   "metadata": {
    "ExecuteTime": {
     "end_time": "2021-02-06T17:55:50.324980Z",
     "start_time": "2021-02-06T17:55:50.307822Z"
    }
   },
   "outputs": [
    {
     "data": {
      "text/plain": [
       "'Индивидуальный жилой дом'"
      ]
     },
     "execution_count": 273,
     "metadata": {},
     "output_type": "execute_result"
    }
   ],
   "source": [
    "df_tmp['properties'][0]['BUILD_NAME']"
   ]
  },
  {
   "cell_type": "code",
   "execution_count": 277,
   "metadata": {
    "ExecuteTime": {
     "end_time": "2021-02-06T17:56:14.920494Z",
     "start_time": "2021-02-06T17:56:14.909096Z"
    }
   },
   "outputs": [
    {
     "data": {
      "text/plain": [
       "3"
      ]
     },
     "execution_count": 277,
     "metadata": {},
     "output_type": "execute_result"
    }
   ],
   "source": [
    "df_tmp['properties'][0]['FLOORS']"
   ]
  },
  {
   "cell_type": "code",
   "execution_count": 278,
   "metadata": {
    "ExecuteTime": {
     "end_time": "2021-02-06T17:56:22.067769Z",
     "start_time": "2021-02-06T17:56:22.052397Z"
    }
   },
   "outputs": [
    {
     "data": {
      "text/plain": [
       "'ОБЪЕКТЫ ЖИЛОГО НАЗНАЧЕНИЯ'"
      ]
     },
     "execution_count": 278,
     "metadata": {},
     "output_type": "execute_result"
    }
   ],
   "source": [
    "df_tmp['properties'][0]['FUNCTIONALITY_NAME']"
   ]
  },
  {
   "cell_type": "code",
   "execution_count": 280,
   "metadata": {
    "ExecuteTime": {
     "end_time": "2021-02-06T17:56:46.115662Z",
     "start_time": "2021-02-06T17:56:46.107284Z"
    }
   },
   "outputs": [
    {
     "data": {
      "text/plain": [
       "'Нижний Новгород г, Богатырская улица, д.9'"
      ]
     },
     "execution_count": 280,
     "metadata": {},
     "output_type": "execute_result"
    }
   ],
   "source": [
    "df_tmp['properties'][0]['ADDRESS']"
   ]
  },
  {
   "cell_type": "code",
   "execution_count": null,
   "metadata": {},
   "outputs": [],
   "source": []
  },
  {
   "cell_type": "code",
   "execution_count": 279,
   "metadata": {
    "ExecuteTime": {
     "end_time": "2021-02-06T17:56:31.050915Z",
     "start_time": "2021-02-06T17:56:31.033249Z"
    }
   },
   "outputs": [
    {
     "data": {
      "text/plain": [
       "'2017'"
      ]
     },
     "execution_count": 279,
     "metadata": {},
     "output_type": "execute_result"
    }
   ],
   "source": [
    "df_tmp['properties'][0]['BUILD_YEAR']"
   ]
  },
  {
   "cell_type": "code",
   "execution_count": 283,
   "metadata": {
    "ExecuteTime": {
     "end_time": "2021-02-06T17:57:13.888081Z",
     "start_time": "2021-02-06T17:57:13.870731Z"
    }
   },
   "outputs": [
    {
     "data": {
      "text/plain": [
       "'В целях решения социальной задачи ликвидации ветхого фонда Городская Дума Нижнего Новгорода постановлением от 31.01.2007 №4 (с последующими дополнениями) утвердила муниципальную адресную программу сноса и реконструкции ветхого и сноса аварийного жилищного фонда в городе Нижнем Новгороде. \\nВ адресный перечень ветхих домов, планируемых к сносу, в составе указанной программы включены жилые дома с износом выше 65 процентов.\\nУчитывая то, что износ данного дома по данным БТИ ниже, этот дом в указанную программу не включен.\\n\\nСуществующий объект соответствует градостроительным регламентам данной зоны, основания для его сноса отсутствуют.'"
      ]
     },
     "execution_count": 283,
     "metadata": {},
     "output_type": "execute_result"
    }
   ],
   "source": [
    "df_tmp['properties'][0]['BUILDING_STATE']"
   ]
  },
  {
   "cell_type": "code",
   "execution_count": 282,
   "metadata": {
    "ExecuteTime": {
     "end_time": "2021-02-06T17:57:03.672951Z",
     "start_time": "2021-02-06T17:57:03.653562Z"
    }
   },
   "outputs": [
    {
     "data": {
      "text/plain": [
       "{'BUILD_NAME': 'Индивидуальный жилой дом',\n",
       " 'FLOORS': 3,\n",
       " 'FUNCTIONALITY_NAME': 'ОБЪЕКТЫ ЖИЛОГО НАЗНАЧЕНИЯ',\n",
       " 'BUILDINGS_CONDITION_NAME': 'существующее',\n",
       " 'ADDRESS': 'Нижний Новгород г, Богатырская улица, д.9',\n",
       " 'POST_INDEX': None,\n",
       " 'BUILD_YEAR': '2017',\n",
       " 'BUILDING_STATE': 'В целях решения социальной задачи ликвидации ветхого фонда Городская Дума Нижнего Новгорода постановлением от 31.01.2007 №4 (с последующими дополнениями) утвердила муниципальную адресную программу сноса и реконструкции ветхого и сноса аварийного жилищного фонда в городе Нижнем Новгороде. \\nВ адресный перечень ветхих домов, планируемых к сносу, в составе указанной программы включены жилые дома с износом выше 65 процентов.\\nУчитывая то, что износ данного дома по данным БТИ ниже, этот дом в указанную программу не включен.\\n\\nСуществующий объект соответствует градостроительным регламентам данной зоны, основания для его сноса отсутствуют.'}"
      ]
     },
     "execution_count": 282,
     "metadata": {},
     "output_type": "execute_result"
    }
   ],
   "source": [
    "df_attr['features'][0]['properties']"
   ]
  },
  {
   "cell_type": "code",
   "execution_count": 226,
   "metadata": {
    "ExecuteTime": {
     "end_time": "2021-02-06T17:30:15.610978Z",
     "start_time": "2021-02-06T17:30:15.595856Z"
    }
   },
   "outputs": [
    {
     "data": {
      "text/plain": [
       "'V_PORTAL2_EXIST_BUILDINGS_A.100403056'"
      ]
     },
     "execution_count": 226,
     "metadata": {},
     "output_type": "execute_result"
    }
   ],
   "source": [
    "df_attr['features'][0]['id']"
   ]
  },
  {
   "cell_type": "code",
   "execution_count": 230,
   "metadata": {
    "ExecuteTime": {
     "end_time": "2021-02-06T17:30:41.576919Z",
     "start_time": "2021-02-06T17:30:41.562684Z"
    }
   },
   "outputs": [
    {
     "data": {
      "text/plain": [
       "{'BUILD_NAME': 'Индивидуальный жилой дом',\n",
       " 'FLOORS': 3,\n",
       " 'FUNCTIONALITY_NAME': 'ОБЪЕКТЫ ЖИЛОГО НАЗНАЧЕНИЯ',\n",
       " 'BUILDINGS_CONDITION_NAME': 'существующее',\n",
       " 'ADDRESS': 'Нижний Новгород г, Богатырская улица, д.9',\n",
       " 'POST_INDEX': None,\n",
       " 'BUILD_YEAR': '2017',\n",
       " 'BUILDING_STATE': 'В целях решения социальной задачи ликвидации ветхого фонда Городская Дума Нижнего Новгорода постановлением от 31.01.2007 №4 (с последующими дополнениями) утвердила муниципальную адресную программу сноса и реконструкции ветхого и сноса аварийного жилищного фонда в городе Нижнем Новгороде. \\nВ адресный перечень ветхих домов, планируемых к сносу, в составе указанной программы включены жилые дома с износом выше 65 процентов.\\nУчитывая то, что износ данного дома по данным БТИ ниже, этот дом в указанную программу не включен.\\n\\nСуществующий объект соответствует градостроительным регламентам данной зоны, основания для его сноса отсутствуют.'}"
      ]
     },
     "execution_count": 230,
     "metadata": {},
     "output_type": "execute_result"
    }
   ],
   "source": [
    "df_attr['features'][0]['properties']"
   ]
  },
  {
   "cell_type": "code",
   "execution_count": 177,
   "metadata": {
    "ExecuteTime": {
     "end_time": "2021-02-06T17:01:46.351348Z",
     "start_time": "2021-02-06T17:01:45.471722Z"
    }
   },
   "outputs": [],
   "source": [
    "exb = 'https://geonn.grad-nn.ru/proxy.php?url=http%3A%2F%2Flocalhost%3A8080%2Fgeoserver%2FORCL_PORTAL%2Fows%3Fservice%3DWFS%26version%3D1.0.0%26request%3DGetFeature%26outputFormat%3Dapplication%252Fjson%26typeName%3DORCL_PORTAL%3AV_PORTAL2_EXIST_BUILDINGS_A%26featureID%3DV_PORTAL2_EXIST_BUILDINGS_A.100403840'\n",
    "response_attr = requests.get(exb)"
   ]
  },
  {
   "cell_type": "code",
   "execution_count": 178,
   "metadata": {
    "ExecuteTime": {
     "end_time": "2021-02-06T17:02:05.714658Z",
     "start_time": "2021-02-06T17:02:05.698823Z"
    }
   },
   "outputs": [
    {
     "data": {
      "text/plain": [
       "{'type': 'FeatureCollection',\n",
       " 'totalFeatures': 1,\n",
       " 'features': [{'type': 'Feature',\n",
       "   'id': 'V_PORTAL2_EXIST_BUILDINGS_A.100403840',\n",
       "   'geometry': None,\n",
       "   'properties': {'BUILD_NAME': 'Павильон контроля доступа №4 с ДГУ №3',\n",
       "    'FLOORS': 1,\n",
       "    'FUNCTIONALITY_NAME': 'спортивного назначения',\n",
       "    'BUILDINGS_CONDITION_NAME': 'существующее',\n",
       "    'ADDRESS': 'Нижний Новгород г, Бетанкура улица, стр.4, д.1А',\n",
       "    'POST_INDEX': None,\n",
       "    'BUILD_YEAR': '2019',\n",
       "    'BUILDING_STATE': 'В целях решения социальной задачи ликвидации ветхого фонда Городская Дума Нижнего Новгорода постановлением от 31.01.2007 №4 (с последующими дополнениями) утвердила муниципальную адресную программу сноса и реконструкции ветхого и сноса аварийного жилищного фонда в городе Нижнем Новгороде. \\nВ адресный перечень ветхих домов, планируемых к сносу, в составе указанной программы включены жилые дома с износом выше 65 процентов.\\nУчитывая то, что износ данного дома по данным БТИ ниже, этот дом в указанную программу не включен.\\n\\nСуществующий объект соответствует градостроительным регламентам данной зоны, основания для его сноса отсутствуют.'}}],\n",
       " 'crs': None}"
      ]
     },
     "execution_count": 178,
     "metadata": {},
     "output_type": "execute_result"
    }
   ],
   "source": [
    "df_attr = response_attr.json()\n",
    "df_attr"
   ]
  },
  {
   "cell_type": "code",
   "execution_count": 174,
   "metadata": {
    "ExecuteTime": {
     "end_time": "2021-02-06T16:58:11.967135Z",
     "start_time": "2021-02-06T16:58:11.946127Z"
    }
   },
   "outputs": [
    {
     "name": "stdout",
     "output_type": "stream",
     "text": [
      "<class 'pandas.core.frame.DataFrame'>\n",
      "RangeIndex: 85 entries, 0 to 84\n",
      "Data columns (total 5 columns):\n",
      " #   Column         Non-Null Count  Dtype \n",
      "---  ------         --------------  ----- \n",
      " 0   type           85 non-null     object\n",
      " 1   id             85 non-null     object\n",
      " 2   geometry       85 non-null     object\n",
      " 3   geometry_name  85 non-null     object\n",
      " 4   properties     85 non-null     object\n",
      "dtypes: object(5)\n",
      "memory usage: 3.4+ KB\n"
     ]
    }
   ],
   "source": [
    "target_bbox_geom.info()"
   ]
  },
  {
   "cell_type": "code",
   "execution_count": 189,
   "metadata": {
    "ExecuteTime": {
     "end_time": "2021-02-06T17:06:23.626789Z",
     "start_time": "2021-02-06T17:06:23.603584Z"
    }
   },
   "outputs": [],
   "source": [
    "target_bbox_geom.to_csv('/Users/juliatuvaleva/Documents/marchi/geonn/test_bldg_pnt.csv', index = False)"
   ]
  },
  {
   "cell_type": "code",
   "execution_count": null,
   "metadata": {},
   "outputs": [],
   "source": []
  },
  {
   "cell_type": "code",
   "execution_count": null,
   "metadata": {},
   "outputs": [],
   "source": []
  },
  {
   "cell_type": "code",
   "execution_count": 129,
   "metadata": {
    "ExecuteTime": {
     "end_time": "2021-02-06T16:50:44.705310Z",
     "start_time": "2021-02-06T16:50:44.687832Z"
    }
   },
   "outputs": [
    {
     "data": {
      "text/plain": [
       "{'type': 'Polygon',\n",
       " 'coordinates': [[[4893189.04367405, 7626043.3007631, 0],\n",
       "   [4893412.9849542, 7626335.07304432, 0],\n",
       "   [4893486.25211346, 7626280.13718148, 0],\n",
       "   [4893564.54869365, 7626385.04612648, 0],\n",
       "   [4893472.97890435, 7626454.86980987, 0],\n",
       "   [4893476.9796066, 7626461.17548721, 0],\n",
       "   [4893252.62635928, 7626631.7371092, 0],\n",
       "   [4893219.47285715, 7626589.31088986, 0],\n",
       "   [4893214.32168441, 7626593.31764214, 0],\n",
       "   [4893207.46300023, 7626583.57157577, 0],\n",
       "   [4893212.04206642, 7626579.5643707, 0],\n",
       "   [4893095.43797861, 7626428.20315128, 0],\n",
       "   [4893112.03573041, 7626415.61117358, 0],\n",
       "   [4893043.44830057, 7626325.02198862, 0],\n",
       "   [4893038.87005069, 7626327.88305729, 0],\n",
       "   [4893027.43735829, 7626315.26761459, 0],\n",
       "   [4893032.58873966, 7626310.68802195, 0],\n",
       "   [4892961.18701147, 7626218.39921399, 0],\n",
       "   [4893189.04367405, 7626043.3007631, 0]]]}"
      ]
     },
     "execution_count": 129,
     "metadata": {},
     "output_type": "execute_result"
    }
   ],
   "source": [
    "df['features'][1]['geometry']"
   ]
  },
  {
   "cell_type": "code",
   "execution_count": 132,
   "metadata": {
    "ExecuteTime": {
     "end_time": "2021-02-06T16:51:08.466188Z",
     "start_time": "2021-02-06T16:51:08.452612Z"
    }
   },
   "outputs": [
    {
     "data": {
      "image/svg+xml": [
       "<svg xmlns=\"http://www.w3.org/2000/svg\" xmlns:xlink=\"http://www.w3.org/1999/xlink\" width=\"100.0\" height=\"100.0\" viewBox=\"4892513.576875531 7626581.216028121 26.08039697818458 19.46879642829299\" preserveAspectRatio=\"xMinYMin meet\"><g transform=\"matrix(1,0,0,-1,0,15253181.90085267)\"><path fill-rule=\"evenodd\" fill=\"#66cc99\" stroke=\"#555555\" stroke-width=\"0.5216079395636917\" opacity=\"0.6\" d=\"M 4892535.26613748,7626582.18196875 L 4892538.69133188,7626595.59219277 L 4892517.2694598,7626599.71888392 L 4892514.54281616,7626586.2973185 L 4892535.26613748,7626582.18196875 z\" /></g></svg>"
      ],
      "text/plain": [
       "<shapely.geometry.polygon.Polygon at 0x7fa48aed8c10>"
      ]
     },
     "execution_count": 132,
     "metadata": {},
     "output_type": "execute_result"
    }
   ],
   "source": [
    "shape(df['features'][10]['geometry'])"
   ]
  },
  {
   "cell_type": "code",
   "execution_count": null,
   "metadata": {},
   "outputs": [],
   "source": [
    "df_pd['geometry'] = df_pd['geoData'].apply(lambda x: shape(x))"
   ]
  }
 ],
 "metadata": {
  "kernelspec": {
   "display_name": "Python 3",
   "language": "python",
   "name": "python3"
  },
  "language_info": {
   "codemirror_mode": {
    "name": "ipython",
    "version": 3
   },
   "file_extension": ".py",
   "mimetype": "text/x-python",
   "name": "python",
   "nbconvert_exporter": "python",
   "pygments_lexer": "ipython3",
   "version": "3.7.4"
  },
  "toc": {
   "base_numbering": 1,
   "nav_menu": {},
   "number_sections": true,
   "sideBar": true,
   "skip_h1_title": false,
   "title_cell": "Table of Contents",
   "title_sidebar": "Contents",
   "toc_cell": false,
   "toc_position": {},
   "toc_section_display": true,
   "toc_window_display": false
  }
 },
 "nbformat": 4,
 "nbformat_minor": 2
}
