{
 "cells": [
  {
   "cell_type": "code",
   "execution_count": 79,
   "metadata": {
    "ExecuteTime": {
     "end_time": "2022-05-17T09:34:01.164617Z",
     "start_time": "2022-05-17T09:34:01.153819Z"
    }
   },
   "outputs": [],
   "source": [
    "import wikipedia\n",
    "import pandas as pd\n",
    "import geopandas as gpd\n",
    "from shapely.wkt import loads\n",
    "from shapely.geometry import Polygon\n",
    "import requests\n",
    "import json\n",
    "import numpy as np\n",
    "from tqdm import tqdm_notebook\n",
    "from qwikidata.sparql import (get_subclasses_of_item,\n",
    "                              return_sparql_query_results)\n",
    "from datetime import date"
   ]
  },
  {
   "cell_type": "code",
   "execution_count": 177,
   "metadata": {
    "ExecuteTime": {
     "end_time": "2022-05-17T10:07:48.945589Z",
     "start_time": "2022-05-17T10:07:48.934470Z"
    }
   },
   "outputs": [],
   "source": [
    "WIKIMAPIA_API_KEY = 'wikimapia api key'"
   ]
  },
  {
   "cell_type": "markdown",
   "metadata": {},
   "source": [
    "### Get all categories from Wikimapia"
   ]
  },
  {
   "cell_type": "code",
   "execution_count": 178,
   "metadata": {
    "ExecuteTime": {
     "end_time": "2022-05-17T10:07:50.220980Z",
     "start_time": "2022-05-17T10:07:50.067712Z"
    }
   },
   "outputs": [
    {
     "data": {
      "text/html": [
       "<div>\n",
       "<style scoped>\n",
       "    .dataframe tbody tr th:only-of-type {\n",
       "        vertical-align: middle;\n",
       "    }\n",
       "\n",
       "    .dataframe tbody tr th {\n",
       "        vertical-align: top;\n",
       "    }\n",
       "\n",
       "    .dataframe thead th {\n",
       "        text-align: right;\n",
       "    }\n",
       "</style>\n",
       "<table border=\"1\" class=\"dataframe\">\n",
       "  <thead>\n",
       "    <tr style=\"text-align: right;\">\n",
       "      <th></th>\n",
       "      <th>id</th>\n",
       "      <th>amount</th>\n",
       "      <th>icon</th>\n",
       "      <th>name</th>\n",
       "    </tr>\n",
       "  </thead>\n",
       "  <tbody>\n",
       "    <tr>\n",
       "      <th>0</th>\n",
       "      <td>46535</td>\n",
       "      <td>32092430</td>\n",
       "      <td>http://wikimapia.org/mapico/00/00/00/00/00.png</td>\n",
       "      <td>place without photos</td>\n",
       "    </tr>\n",
       "    <tr>\n",
       "      <th>1</th>\n",
       "      <td>46534</td>\n",
       "      <td>21345131</td>\n",
       "      <td>http://wikimapia.org/mapico/00/00/00/00/00.png</td>\n",
       "      <td>place without description</td>\n",
       "    </tr>\n",
       "    <tr>\n",
       "      <th>2</th>\n",
       "      <td>46532</td>\n",
       "      <td>14909883</td>\n",
       "      <td>http://wikimapia.org/mapico/00/00/00/00/00.png</td>\n",
       "      <td>place without category</td>\n",
       "    </tr>\n",
       "    <tr>\n",
       "      <th>3</th>\n",
       "      <td>46533</td>\n",
       "      <td>7704344</td>\n",
       "      <td>http://wikimapia.org/mapico/00/00/00/00/00.png</td>\n",
       "      <td>building without address</td>\n",
       "    </tr>\n",
       "    <tr>\n",
       "      <th>4</th>\n",
       "      <td>164</td>\n",
       "      <td>3121855</td>\n",
       "      <td>http://wikimapia.org/mapico/00/00/00/00/45.png</td>\n",
       "      <td>house</td>\n",
       "    </tr>\n",
       "  </tbody>\n",
       "</table>\n",
       "</div>"
      ],
      "text/plain": [
       "      id    amount                                            icon  \\\n",
       "0  46535  32092430  http://wikimapia.org/mapico/00/00/00/00/00.png   \n",
       "1  46534  21345131  http://wikimapia.org/mapico/00/00/00/00/00.png   \n",
       "2  46532  14909883  http://wikimapia.org/mapico/00/00/00/00/00.png   \n",
       "3  46533   7704344  http://wikimapia.org/mapico/00/00/00/00/00.png   \n",
       "4    164   3121855  http://wikimapia.org/mapico/00/00/00/00/45.png   \n",
       "\n",
       "                        name  \n",
       "0       place without photos  \n",
       "1  place without description  \n",
       "2     place without category  \n",
       "3   building without address  \n",
       "4                      house  "
      ]
     },
     "execution_count": 178,
     "metadata": {},
     "output_type": "execute_result"
    }
   ],
   "source": [
    "API_CATEGORIES = 'http://api.wikimapia.org/?function=category.getall'\n",
    "paramsCat={'key': WIKIMAPIA_API_KEY,\n",
    "           'format': 'json'}\n",
    "response_category = requests.get(API_CATEGORIES, params=paramsCat)\n",
    "response_category = response_category.json()\n",
    "category_df = pd.DataFrame(response_category[\"categories\"])\n",
    "category_df.head()"
   ]
  },
  {
   "cell_type": "code",
   "execution_count": 134,
   "metadata": {
    "ExecuteTime": {
     "end_time": "2022-05-17T09:52:10.650154Z",
     "start_time": "2022-05-17T09:52:10.622271Z"
    }
   },
   "outputs": [
    {
     "data": {
      "text/plain": [
       "array(['place without photos', 'place without description',\n",
       "       'place without category', 'building without address', 'house',\n",
       "       'home', 'dwelling', 'residence', 'villa', 'building',\n",
       "       'place without polygon', 'apartments', 'tenement',\n",
       "       'apartment building', 'block of flats', 'tower block',\n",
       "       'shopping and services', 'store / shop',\n",
       "       'place with triangular polygon', 'village', 'dining and leisure',\n",
       "       'education', 'school', 'schooling', 'schoolhouse',\n",
       "       'nonresidential building', 'water', 'electric power', 'religion',\n",
       "       'religious', 'faith', 'do not draw title', 'restaurant', 'eatery',\n",
       "       'lake', 'park', 'power transmission line', 'hydro tower',\n",
       "       'electricity pylon', 'transmission tower (electric / electricity)',\n",
       "       'production', 'industry', 'administrative division',\n",
       "       'constructions by dates', 'venue', 'sports venue', 'sports centre',\n",
       "       'sports center', 'place of worship',\n",
       "       'place with historical importance'], dtype=object)"
      ]
     },
     "execution_count": 134,
     "metadata": {},
     "output_type": "execute_result"
    }
   ],
   "source": [
    "category_df[\"name\"].unique()"
   ]
  },
  {
   "cell_type": "code",
   "execution_count": 141,
   "metadata": {
    "ExecuteTime": {
     "end_time": "2022-05-17T09:53:52.697270Z",
     "start_time": "2022-05-17T09:53:52.679971Z"
    }
   },
   "outputs": [
    {
     "data": {
      "text/html": [
       "<div>\n",
       "<style scoped>\n",
       "    .dataframe tbody tr th:only-of-type {\n",
       "        vertical-align: middle;\n",
       "    }\n",
       "\n",
       "    .dataframe tbody tr th {\n",
       "        vertical-align: top;\n",
       "    }\n",
       "\n",
       "    .dataframe thead th {\n",
       "        text-align: right;\n",
       "    }\n",
       "</style>\n",
       "<table border=\"1\" class=\"dataframe\">\n",
       "  <thead>\n",
       "    <tr style=\"text-align: right;\">\n",
       "      <th></th>\n",
       "      <th>id</th>\n",
       "      <th>amount</th>\n",
       "      <th>icon</th>\n",
       "      <th>name</th>\n",
       "    </tr>\n",
       "  </thead>\n",
       "  <tbody>\n",
       "    <tr>\n",
       "      <th>9</th>\n",
       "      <td>109</td>\n",
       "      <td>2874073</td>\n",
       "      <td>http://wikimapia.org/mapico/00/00/00/00/00.png</td>\n",
       "      <td>building</td>\n",
       "    </tr>\n",
       "  </tbody>\n",
       "</table>\n",
       "</div>"
      ],
      "text/plain": [
       "    id   amount                                            icon      name\n",
       "9  109  2874073  http://wikimapia.org/mapico/00/00/00/00/00.png  building"
      ]
     },
     "execution_count": 141,
     "metadata": {},
     "output_type": "execute_result"
    }
   ],
   "source": [
    "category_df[category_df[\"name\"] == \"building\"]"
   ]
  },
  {
   "cell_type": "markdown",
   "metadata": {},
   "source": [
    "### Get objects with category by bbox "
   ]
  },
  {
   "cell_type": "code",
   "execution_count": 184,
   "metadata": {
    "ExecuteTime": {
     "end_time": "2022-05-17T10:10:37.462304Z",
     "start_time": "2022-05-17T10:10:37.457217Z"
    }
   },
   "outputs": [],
   "source": [
    "category_id = '109'"
   ]
  },
  {
   "cell_type": "code",
   "execution_count": 168,
   "metadata": {
    "ExecuteTime": {
     "end_time": "2022-05-17T10:05:05.441661Z",
     "start_time": "2022-05-17T10:05:05.433866Z"
    }
   },
   "outputs": [],
   "source": [
    "API_URL = 'http://api.wikimapia.org/?function=box'\n",
    "params={'key': WIKIMAPIA_API_KEY,\n",
    "        'bbox': '37.637723,55.740268,37.746049,55.804392',\n",
    "        'language':'ru',\n",
    "        'format': 'json',\n",
    "        'category': category_id,\n",
    "        'page': 1,\n",
    "        'count': 100}"
   ]
  },
  {
   "cell_type": "code",
   "execution_count": 169,
   "metadata": {
    "ExecuteTime": {
     "end_time": "2022-05-17T10:05:06.447597Z",
     "start_time": "2022-05-17T10:05:05.803662Z"
    }
   },
   "outputs": [
    {
     "data": {
      "text/plain": [
       "(166, (100, 5))"
      ]
     },
     "execution_count": 169,
     "metadata": {},
     "output_type": "execute_result"
    }
   ],
   "source": [
    "response = requests.get(API_URL, params=params)\n",
    "response_json = response.json()\n",
    "response_df = pd.DataFrame(response_json[\"folder\"])\n",
    "int(response_json['found']), response_df.shape"
   ]
  },
  {
   "cell_type": "markdown",
   "metadata": {},
   "source": [
    "у викимапии постраничная выгрузка объектов, на одной странице максимум 100 объектов, но  при первом запросе api можно по полю \"found\" узнать точное число объектов в выбранном  bbox. Значение \"found\" нужно разделить на 100, округлить и получится общее число страниц. после чего повторяем вызов api с нужными номерами страниц, указанные в параметре запроса"
   ]
  },
  {
   "cell_type": "code",
   "execution_count": 170,
   "metadata": {
    "ExecuteTime": {
     "end_time": "2022-05-17T10:05:08.806159Z",
     "start_time": "2022-05-17T10:05:08.230480Z"
    }
   },
   "outputs": [
    {
     "data": {
      "text/plain": [
       "(166, 5)"
      ]
     },
     "execution_count": 170,
     "metadata": {},
     "output_type": "execute_result"
    }
   ],
   "source": [
    "totalObj = int(response_json['found'])\n",
    "if totalObj > 100:\n",
    "    pageCount = round(totalObj/100)\n",
    "    pageArray = list(range(2, pageCount + 1))\n",
    "    for i in pageArray:\n",
    "        params={'key': WIKIMAPIA_API_KEY,\n",
    "                'bbox': '37.637723,55.740268,37.746049,55.804392',\n",
    "                'language':'ru',\n",
    "                'format': 'json',\n",
    "                'category': category_id,\n",
    "                'page': i,\n",
    "                'count': 100}\n",
    "        response = requests.get(API_URL, params=params)\n",
    "        response_json = response.json()\n",
    "        tmp_df = pd.DataFrame(response_json[\"folder\"])\n",
    "        response_df = response_df.append(tmp_df).reset_index(drop=True) \n",
    "\n",
    "response_df.shape"
   ]
  },
  {
   "cell_type": "code",
   "execution_count": 171,
   "metadata": {
    "ExecuteTime": {
     "end_time": "2022-05-17T10:05:10.137321Z",
     "start_time": "2022-05-17T10:05:10.124159Z"
    }
   },
   "outputs": [
    {
     "data": {
      "text/plain": [
       "[{'x': 37.6941695, 'y': 55.7686025},\n",
       " {'x': 37.6943493, 'y': 55.7686999},\n",
       " {'x': 37.6944461, 'y': 55.7686454},\n",
       " {'x': 37.6944716, 'y': 55.7686575},\n",
       " {'x': 37.6952709, 'y': 55.7681988},\n",
       " {'x': 37.695299, 'y': 55.7682139},\n",
       " {'x': 37.6957242, 'y': 55.7679725},\n",
       " {'x': 37.695692, 'y': 55.7679566},\n",
       " {'x': 37.6970974, 'y': 55.7671471},\n",
       " {'x': 37.6971157, 'y': 55.7671557},\n",
       " {'x': 37.6971404, 'y': 55.7671599},\n",
       " {'x': 37.6971645, 'y': 55.7671599},\n",
       " {'x': 37.6971873, 'y': 55.7671547},\n",
       " {'x': 37.698229, 'y': 55.7677583},\n",
       " {'x': 37.6953769, 'y': 55.7693722},\n",
       " {'x': 37.695589, 'y': 55.7694909},\n",
       " {'x': 37.6986138, 'y': 55.7677806},\n",
       " {'x': 37.6971338, 'y': 55.7669165},\n",
       " {'x': 37.6954948, 'y': 55.7678442},\n",
       " {'x': 37.6954707, 'y': 55.7678299},\n",
       " {'x': 37.6950415, 'y': 55.7680751},\n",
       " {'x': 37.695067, 'y': 55.7680887}]"
      ]
     },
     "execution_count": 171,
     "metadata": {},
     "output_type": "execute_result"
    }
   ],
   "source": [
    "response_df.loc[0, \"polygon\"]"
   ]
  },
  {
   "cell_type": "code",
   "execution_count": 172,
   "metadata": {
    "ExecuteTime": {
     "end_time": "2022-05-17T10:06:10.487613Z",
     "start_time": "2022-05-17T10:06:10.479894Z"
    }
   },
   "outputs": [],
   "source": [
    "def convertToWKT(x):\n",
    "    '''\n",
    "    Функция конвертирует полигон викимапии в формат WKT\n",
    "    '''\n",
    "    newArray = Polygon([list(item.values()) for item in x])\n",
    "    return newArray"
   ]
  },
  {
   "cell_type": "code",
   "execution_count": 173,
   "metadata": {
    "ExecuteTime": {
     "end_time": "2022-05-17T10:06:13.232205Z",
     "start_time": "2022-05-17T10:06:13.215159Z"
    }
   },
   "outputs": [],
   "source": [
    "response_df['geometry'] = response_df[\"polygon\"].apply(lambda x: convertToWKT(x))"
   ]
  },
  {
   "cell_type": "code",
   "execution_count": 174,
   "metadata": {
    "ExecuteTime": {
     "end_time": "2022-05-17T10:06:13.839633Z",
     "start_time": "2022-05-17T10:06:13.789747Z"
    }
   },
   "outputs": [
    {
     "data": {
      "text/html": [
       "<div>\n",
       "<style scoped>\n",
       "    .dataframe tbody tr th:only-of-type {\n",
       "        vertical-align: middle;\n",
       "    }\n",
       "\n",
       "    .dataframe tbody tr th {\n",
       "        vertical-align: top;\n",
       "    }\n",
       "\n",
       "    .dataframe thead th {\n",
       "        text-align: right;\n",
       "    }\n",
       "</style>\n",
       "<table border=\"1\" class=\"dataframe\">\n",
       "  <thead>\n",
       "    <tr style=\"text-align: right;\">\n",
       "      <th></th>\n",
       "      <th>id</th>\n",
       "      <th>name</th>\n",
       "      <th>url</th>\n",
       "      <th>location</th>\n",
       "      <th>polygon</th>\n",
       "      <th>geometry</th>\n",
       "    </tr>\n",
       "  </thead>\n",
       "  <tbody>\n",
       "    <tr>\n",
       "      <th>0</th>\n",
       "      <td>33536587</td>\n",
       "      <td>Госпитальная пл., 1–3 строение 1</td>\n",
       "      <td>http://wikimapia.org/33536587/ru/%D0%93%D0%BE%...</td>\n",
       "      <td>{'north': 55.7694909, 'south': 55.7669165, 'ea...</td>\n",
       "      <td>[{'x': 37.6941695, 'y': 55.7686025}, {'x': 37....</td>\n",
       "      <td>POLYGON ((37.6941695 55.7686025, 37.6943493 55...</td>\n",
       "    </tr>\n",
       "    <tr>\n",
       "      <th>1</th>\n",
       "      <td>39121011</td>\n",
       "      <td>ул. Пруд Ключики, 2б</td>\n",
       "      <td>http://wikimapia.org/39121011/ru/%D1%83%D0%BB-...</td>\n",
       "      <td>{'north': 55.7472352, 'south': 55.7460849, 'ea...</td>\n",
       "      <td>[{'x': 37.728534, 'y': 55.7472352}, {'x': 37.7...</td>\n",
       "      <td>POLYGON ((37.728534 55.7472352, 37.7294218 55....</td>\n",
       "    </tr>\n",
       "    <tr>\n",
       "      <th>2</th>\n",
       "      <td>24180661</td>\n",
       "      <td>Гематологический корпус Главного клинического ...</td>\n",
       "      <td>http://wikimapia.org/24180661/ru/%D0%93%D0%B5%...</td>\n",
       "      <td>{'north': 55.7696572, 'south': 55.7678527, 'ea...</td>\n",
       "      <td>[{'x': 37.6952499, 'y': 55.7696044}, {'x': 37....</td>\n",
       "      <td>POLYGON ((37.6952499 55.7696044, 37.6955127 55...</td>\n",
       "    </tr>\n",
       "    <tr>\n",
       "      <th>3</th>\n",
       "      <td>31512689</td>\n",
       "      <td>Авиамоторная ул., 57 строение 13</td>\n",
       "      <td>http://wikimapia.org/31512689/ru/%D0%90%D0%B2%...</td>\n",
       "      <td>{'north': 55.7427848, 'south': 55.7410344, 'ea...</td>\n",
       "      <td>[{'x': 37.7235391, 'y': 55.7415546}, {'x': 37....</td>\n",
       "      <td>POLYGON ((37.7235391 55.7415546, 37.7243345 55...</td>\n",
       "    </tr>\n",
       "    <tr>\n",
       "      <th>4</th>\n",
       "      <td>39121003</td>\n",
       "      <td>ул. Пруд Ключики, 2 строение 4</td>\n",
       "      <td>http://wikimapia.org/39121003/ru/%D1%83%D0%BB-...</td>\n",
       "      <td>{'north': 55.747198, 'south': 55.7462736, 'eas...</td>\n",
       "      <td>[{'x': 37.7273619, 'y': 55.747198}, {'x': 37.7...</td>\n",
       "      <td>POLYGON ((37.7273619 55.747198, 37.7280539 55....</td>\n",
       "    </tr>\n",
       "  </tbody>\n",
       "</table>\n",
       "</div>"
      ],
      "text/plain": [
       "         id                                               name  \\\n",
       "0  33536587                   Госпитальная пл., 1–3 строение 1   \n",
       "1  39121011                               ул. Пруд Ключики, 2б   \n",
       "2  24180661  Гематологический корпус Главного клинического ...   \n",
       "3  31512689                   Авиамоторная ул., 57 строение 13   \n",
       "4  39121003                     ул. Пруд Ключики, 2 строение 4   \n",
       "\n",
       "                                                 url  \\\n",
       "0  http://wikimapia.org/33536587/ru/%D0%93%D0%BE%...   \n",
       "1  http://wikimapia.org/39121011/ru/%D1%83%D0%BB-...   \n",
       "2  http://wikimapia.org/24180661/ru/%D0%93%D0%B5%...   \n",
       "3  http://wikimapia.org/31512689/ru/%D0%90%D0%B2%...   \n",
       "4  http://wikimapia.org/39121003/ru/%D1%83%D0%BB-...   \n",
       "\n",
       "                                            location  \\\n",
       "0  {'north': 55.7694909, 'south': 55.7669165, 'ea...   \n",
       "1  {'north': 55.7472352, 'south': 55.7460849, 'ea...   \n",
       "2  {'north': 55.7696572, 'south': 55.7678527, 'ea...   \n",
       "3  {'north': 55.7427848, 'south': 55.7410344, 'ea...   \n",
       "4  {'north': 55.747198, 'south': 55.7462736, 'eas...   \n",
       "\n",
       "                                             polygon  \\\n",
       "0  [{'x': 37.6941695, 'y': 55.7686025}, {'x': 37....   \n",
       "1  [{'x': 37.728534, 'y': 55.7472352}, {'x': 37.7...   \n",
       "2  [{'x': 37.6952499, 'y': 55.7696044}, {'x': 37....   \n",
       "3  [{'x': 37.7235391, 'y': 55.7415546}, {'x': 37....   \n",
       "4  [{'x': 37.7273619, 'y': 55.747198}, {'x': 37.7...   \n",
       "\n",
       "                                            geometry  \n",
       "0  POLYGON ((37.6941695 55.7686025, 37.6943493 55...  \n",
       "1  POLYGON ((37.728534 55.7472352, 37.7294218 55....  \n",
       "2  POLYGON ((37.6952499 55.7696044, 37.6955127 55...  \n",
       "3  POLYGON ((37.7235391 55.7415546, 37.7243345 55...  \n",
       "4  POLYGON ((37.7273619 55.747198, 37.7280539 55....  "
      ]
     },
     "execution_count": 174,
     "metadata": {},
     "output_type": "execute_result"
    }
   ],
   "source": [
    "response_df.head()"
   ]
  },
  {
   "cell_type": "code",
   "execution_count": 175,
   "metadata": {
    "ExecuteTime": {
     "end_time": "2022-05-17T10:06:18.958357Z",
     "start_time": "2022-05-17T10:06:18.934867Z"
    }
   },
   "outputs": [],
   "source": [
    "response_df[[\"id\", \"name\", \"geometry\"]].to_csv(\"wikimapia_polygon.csv\", index = False)"
   ]
  },
  {
   "cell_type": "markdown",
   "metadata": {
    "ExecuteTime": {
     "end_time": "2022-05-17T10:07:07.428802Z",
     "start_time": "2022-05-17T10:07:07.417269Z"
    }
   },
   "source": [
    "### Get object description by ID"
   ]
  },
  {
   "cell_type": "code",
   "execution_count": null,
   "metadata": {},
   "outputs": [],
   "source": [
    "# c этим надо поработать еще, я лимит свой израсходовала"
   ]
  },
  {
   "cell_type": "code",
   "execution_count": null,
   "metadata": {},
   "outputs": [],
   "source": [
    "API_OBJ = 'http://api.wikimapia.org/?function=object'"
   ]
  },
  {
   "cell_type": "code",
   "execution_count": 230,
   "metadata": {
    "ExecuteTime": {
     "end_time": "2022-05-17T10:32:21.534678Z",
     "start_time": "2022-05-17T10:32:21.526701Z"
    }
   },
   "outputs": [],
   "source": [
    "df = pd.DataFrame()"
   ]
  },
  {
   "cell_type": "code",
   "execution_count": 231,
   "metadata": {
    "ExecuteTime": {
     "end_time": "2022-05-17T10:32:22.137991Z",
     "start_time": "2022-05-17T10:32:22.017201Z"
    }
   },
   "outputs": [
    {
     "ename": "KeyError",
     "evalue": "'titleSuperArray'",
     "output_type": "error",
     "traceback": [
      "\u001b[0;31m---------------------------------------------------------------------------\u001b[0m",
      "\u001b[0;31mKeyError\u001b[0m                                  Traceback (most recent call last)",
      "\u001b[0;32m<ipython-input-231-b668e5279180>\u001b[0m in \u001b[0;36m<module>\u001b[0;34m\u001b[0m\n\u001b[1;32m      8\u001b[0m     obj_tmp_df = pd.DataFrame({\n\u001b[1;32m      9\u001b[0m                     \u001b[0;34m\"id\"\u001b[0m\u001b[0;34m:\u001b[0m \u001b[0;34m[\u001b[0m\u001b[0mi\u001b[0m\u001b[0;34m]\u001b[0m\u001b[0;34m,\u001b[0m\u001b[0;34m\u001b[0m\u001b[0;34m\u001b[0m\u001b[0m\n\u001b[0;32m---> 10\u001b[0;31m                     \u001b[0;34m\"name\"\u001b[0m\u001b[0;34m:\u001b[0m \u001b[0;34m[\u001b[0m\u001b[0mresponse2\u001b[0m\u001b[0;34m[\u001b[0m\u001b[0;34m\"titleSuperArray\"\u001b[0m\u001b[0;34m]\u001b[0m\u001b[0;34m[\u001b[0m\u001b[0;34m\"title\"\u001b[0m\u001b[0;34m]\u001b[0m\u001b[0;34m]\u001b[0m\u001b[0;34m\u001b[0m\u001b[0;34m\u001b[0m\u001b[0m\n\u001b[0m\u001b[1;32m     11\u001b[0m                     })\n\u001b[1;32m     12\u001b[0m \u001b[0;34m\u001b[0m\u001b[0m\n",
      "\u001b[0;31mKeyError\u001b[0m: 'titleSuperArray'"
     ]
    }
   ],
   "source": [
    "for i in response_df[\"id\"]:\n",
    "    params_obj = {'key': WIKIMAPIA_API_KEY,\n",
    "                  'id': i,\n",
    "                  'format': 'json'}\n",
    "    \n",
    "    response2 = requests.get(API_OBJ, params=params_obj)\n",
    "    response2 = response2.json()\n",
    "    obj_tmp_df = pd.DataFrame({\n",
    "                    \"id\": [i],\n",
    "                    \"name\": [response2[\"titleSuperArray\"][\"title\"]]\n",
    "                    })\n",
    "    \n",
    "    df = df.append(obj_tmp_df).reset_index(drop=True)\n"
   ]
  },
  {
   "cell_type": "code",
   "execution_count": 229,
   "metadata": {
    "ExecuteTime": {
     "end_time": "2022-05-17T10:30:49.335119Z",
     "start_time": "2022-05-17T10:30:49.318898Z"
    }
   },
   "outputs": [
    {
     "data": {
      "text/plain": [
       "{'debug': {'code': 1004, 'message': 'Key limit has been reached'}}"
      ]
     },
     "execution_count": 229,
     "metadata": {},
     "output_type": "execute_result"
    }
   ],
   "source": [
    "response2"
   ]
  },
  {
   "cell_type": "code",
   "execution_count": null,
   "metadata": {},
   "outputs": [],
   "source": []
  },
  {
   "cell_type": "code",
   "execution_count": 193,
   "metadata": {
    "ExecuteTime": {
     "end_time": "2022-05-17T10:12:44.098748Z",
     "start_time": "2022-05-17T10:12:44.082236Z"
    },
    "scrolled": false
   },
   "outputs": [
    {
     "data": {
      "text/plain": [
       "{'is_deleted': False,\n",
       " 'is_protected': False,\n",
       " 'is_photos': True,\n",
       " 'is_building': True,\n",
       " 'is_region': False,\n",
       " 'title': None,\n",
       " 'description': None,\n",
       " 'wikipedia': None,\n",
       " 'house_no': None,\n",
       " 'tags_ids': [84530, 51457, 87294, 84911, 85230],\n",
       " 'text_editor_user_id': None,\n",
       " 'text_edit_date': None,\n",
       " 'geo_status_old': 140287,\n",
       " 'pl': 367.13961921863,\n",
       " 'xc': 376491385,\n",
       " 'yc': 557460247,\n",
       " 'country_adm_id': 197704,\n",
       " 'x': '376491309',\n",
       " 'y': '557460336',\n",
       " 'zoom': '19',\n",
       " 'w': '5116',\n",
       " 'h': '3996',\n",
       " 'polygon_x': '376489719',\n",
       " 'polygon_y': '557462334',\n",
       " 'polygon': [{'x': 37.6489719, 'y': 55.7462334},\n",
       "  {'x': 37.649153, 'y': 55.7462185},\n",
       "  {'x': 37.649147, 'y': 55.7461948},\n",
       "  {'x': 37.6493867, 'y': 55.7461749},\n",
       "  {'x': 37.6493625, 'y': 55.7460755},\n",
       "  {'x': 37.6492445, 'y': 55.7460844},\n",
       "  {'x': 37.649215, 'y': 55.7459545},\n",
       "  {'x': 37.649333, 'y': 55.745944},\n",
       "  {'x': 37.6493089, 'y': 55.7458473},\n",
       "  {'x': 37.6490658, 'y': 55.7458664},\n",
       "  {'x': 37.6490584, 'y': 55.7458338},\n",
       "  {'x': 37.6488751, 'y': 55.7458494}],\n",
       " 'city_id': '5802505',\n",
       " 'street_id': '577949',\n",
       " 'parent_id': '0',\n",
       " 'id': 25366398,\n",
       " 'tags': [{'id': 109, 'title': 'building'},\n",
       "  {'id': 11526, 'title': 'Neoclassical (architecture)'},\n",
       "  {'id': 45145, 'title': '1909_construction'},\n",
       "  {'id': 46014, 'title': 'medical ward / department'},\n",
       "  {'id': 51146,\n",
       "   'title': 'object of cultural heritage of regional importance (Russia)'}],\n",
       " 'tags_titles': {'51457': {'category_id': 109, 'title': 'building'},\n",
       "  '84530': {'category_id': 11526, 'title': 'Neoclassical (architecture)'},\n",
       "  '87294': {'category_id': 45145, 'title': '1909_construction'},\n",
       "  '85230': {'category_id': 46014, 'title': 'medical ward / department'},\n",
       "  '84911': {'category_id': 51146,\n",
       "   'title': 'object of cultural heritage of regional importance (Russia)'}},\n",
       " 'titleSuperArray': {'title': 'Амбулаторный корпус',\n",
       "  'langIso': 'ru',\n",
       "  'fromStreet': False},\n",
       " 'titleForTemplateWithLang': 'Амбулаторный корпус (ru)',\n",
       " 'urlForTemplate': 'http://wikimapia.org/25366398/ru/%D0%90%D0%BC%D0%B1%D1%83%D0%BB%D0%B0%D1%82%D0%BE%D1%80%D0%BD%D1%8B%D0%B9-%D0%BA%D0%BE%D1%80%D0%BF%D1%83%D1%81',\n",
       " 'houseNoForTemplate': '11/6 строение 2',\n",
       " 'titleForTiles': {'ru': 'Амбулаторный корпус', 'en': 'Амбулаторный корпус'},\n",
       " 'titleForTemplate': 'Амбулаторный корпус',\n",
       " 'titleForUrl': '%D0%90%D0%BC%D0%B1%D1%83%D0%BB%D0%B0%D1%82%D0%BE%D1%80%D0%BD%D1%8B%D0%B9-%D0%BA%D0%BE%D1%80%D0%BF%D1%83%D1%81',\n",
       " 'location': {'lon': 37.6491309,\n",
       "  'lat': 55.7460336,\n",
       "  'north': 55.7462334,\n",
       "  'south': 55.7458338,\n",
       "  'east': 37.6493867,\n",
       "  'west': 37.6488751,\n",
       "  'street_id': '577949',\n",
       "  'street': 'Yauzskaya ulitsa',\n",
       "  'country': 'Russia',\n",
       "  'state': 'Moscow',\n",
       "  'place': 'Moscow',\n",
       "  'place_local_name': 'Москва',\n",
       "  'distance': 3252,\n",
       "  'gadm': [{'id': '1000',\n",
       "    'OBJECTID': '0',\n",
       "    'country': '0',\n",
       "    'parent_id': '0',\n",
       "    'level': '0',\n",
       "    'is_last_level': '0',\n",
       "    'population': '0',\n",
       "    'name': 'World',\n",
       "    'varname': '',\n",
       "    'HASC': '',\n",
       "    'ISO': '',\n",
       "    'TYPE': 'World',\n",
       "    'ENGTYPE': '',\n",
       "    'enwikipedia': '',\n",
       "    'enwikipedia_iso': '',\n",
       "    'removed': '0',\n",
       "    'basicName': 'World',\n",
       "    'translation': 'World'},\n",
       "   {'id': '184',\n",
       "    'OBJECTID': '0',\n",
       "    'country': '184',\n",
       "    'parent_id': '1000',\n",
       "    'level': '0',\n",
       "    'is_last_level': '0',\n",
       "    'population': '0',\n",
       "    'name': 'Russia',\n",
       "    'varname': '',\n",
       "    'HASC': 'RU',\n",
       "    'ISO': 'RU',\n",
       "    'TYPE': '',\n",
       "    'ENGTYPE': '',\n",
       "    'enwikipedia': 'http://en.wikipedia.org/wiki/Russia',\n",
       "    'enwikipedia_iso': 'http://en.wikipedia.org/wiki/wiki/ISO_3166-2:RU',\n",
       "    'removed': '0',\n",
       "    'basicName': 'Russia',\n",
       "    'translation': 'Russia'},\n",
       "   {'id': '197611',\n",
       "    'OBJECTID': '0',\n",
       "    'country': '184',\n",
       "    'parent_id': '184',\n",
       "    'level': '1',\n",
       "    'is_last_level': '0',\n",
       "    'population': '0',\n",
       "    'name': 'Moscow City',\n",
       "    'varname': '',\n",
       "    'HASC': '',\n",
       "    'ISO': '',\n",
       "    'TYPE': 'Gorod',\n",
       "    'ENGTYPE': 'City',\n",
       "    'enwikipedia': '',\n",
       "    'enwikipedia_iso': '',\n",
       "    'removed': '0',\n",
       "    'basicName': 'Moscow City',\n",
       "    'translation': 'Moscow City'},\n",
       "   {'id': '197684',\n",
       "    'OBJECTID': '0',\n",
       "    'country': '184',\n",
       "    'parent_id': '197611',\n",
       "    'level': '2',\n",
       "    'is_last_level': '0',\n",
       "    'population': '0',\n",
       "    'name': 'Central',\n",
       "    'varname': 'Central Administrative Okrug',\n",
       "    'HASC': '',\n",
       "    'ISO': '',\n",
       "    'TYPE': 'Okrug',\n",
       "    'ENGTYPE': '',\n",
       "    'enwikipedia': '',\n",
       "    'enwikipedia_iso': '',\n",
       "    'removed': '0',\n",
       "    'basicName': 'Central Administrative Okrug',\n",
       "    'translation': 'Central'}]}}"
      ]
     },
     "execution_count": 193,
     "metadata": {},
     "output_type": "execute_result"
    }
   ],
   "source": [
    "response2.json()"
   ]
  },
  {
   "cell_type": "raw",
   "metadata": {},
   "source": []
  }
 ],
 "metadata": {
  "kernelspec": {
   "display_name": "Python 3",
   "language": "python",
   "name": "python3"
  },
  "language_info": {
   "codemirror_mode": {
    "name": "ipython",
    "version": 3
   },
   "file_extension": ".py",
   "mimetype": "text/x-python",
   "name": "python",
   "nbconvert_exporter": "python",
   "pygments_lexer": "ipython3",
   "version": "3.7.4"
  },
  "toc": {
   "base_numbering": 1,
   "nav_menu": {},
   "number_sections": true,
   "sideBar": true,
   "skip_h1_title": false,
   "title_cell": "Table of Contents",
   "title_sidebar": "Contents",
   "toc_cell": false,
   "toc_position": {},
   "toc_section_display": true,
   "toc_window_display": false
  }
 },
 "nbformat": 4,
 "nbformat_minor": 2
}
