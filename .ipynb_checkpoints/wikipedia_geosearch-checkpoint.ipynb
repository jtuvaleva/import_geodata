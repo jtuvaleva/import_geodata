{
 "cells": [
  {
   "cell_type": "code",
   "execution_count": 1,
   "metadata": {
    "ExecuteTime": {
     "end_time": "2021-04-21T09:53:11.375886Z",
     "start_time": "2021-04-21T09:52:58.682363Z"
    }
   },
   "outputs": [],
   "source": [
    "import wikipedia\n",
    "import pandas as pd\n",
    "import geopandas as gpd\n",
    "from shapely.wkt import loads\n",
    "import requests\n",
    "import json\n",
    "import numpy as np\n",
    "from tqdm import tqdm_notebook\n",
    "from qwikidata.sparql import (get_subclasses_of_item,\n",
    "                              return_sparql_query_results)\n",
    "from datetime import date"
   ]
  },
  {
   "cell_type": "code",
   "execution_count": 2,
   "metadata": {
    "ExecuteTime": {
     "end_time": "2021-04-21T09:56:06.433399Z",
     "start_time": "2021-04-21T09:56:06.409534Z"
    }
   },
   "outputs": [],
   "source": [
    "def get_coordinates(x):\n",
    "    try:\n",
    "        x = x['coordinates']\n",
    "        lat = x[0]['lat']\n",
    "        lon = x[0]['lon']\n",
    "        return lat, lon\n",
    "    except:\n",
    "        return 0,0\n",
    "    \n",
    "def pageviews_sum(x):\n",
    "    if type(x) == dict:\n",
    "        dict_values = [k for k in x.values() if k is not None]\n",
    "        return sum(dict_values)\n",
    "    else:\n",
    "        return x"
   ]
  },
  {
   "cell_type": "markdown",
   "metadata": {},
   "source": [
    "__Load city grid for loading data__"
   ]
  },
  {
   "cell_type": "code",
   "execution_count": 3,
   "metadata": {
    "ExecuteTime": {
     "end_time": "2021-04-21T09:56:21.689881Z",
     "start_time": "2021-04-21T09:56:21.525891Z"
    }
   },
   "outputs": [
    {
     "data": {
      "text/html": [
       "<div>\n",
       "<style scoped>\n",
       "    .dataframe tbody tr th:only-of-type {\n",
       "        vertical-align: middle;\n",
       "    }\n",
       "\n",
       "    .dataframe tbody tr th {\n",
       "        vertical-align: top;\n",
       "    }\n",
       "\n",
       "    .dataframe thead th {\n",
       "        text-align: right;\n",
       "    }\n",
       "</style>\n",
       "<table border=\"1\" class=\"dataframe\">\n",
       "  <thead>\n",
       "    <tr style=\"text-align: right;\">\n",
       "      <th></th>\n",
       "      <th>id</th>\n",
       "      <th>left</th>\n",
       "      <th>top</th>\n",
       "      <th>right</th>\n",
       "      <th>bottom</th>\n",
       "      <th>geometry</th>\n",
       "    </tr>\n",
       "  </thead>\n",
       "  <tbody>\n",
       "    <tr>\n",
       "      <th>0</th>\n",
       "      <td>1</td>\n",
       "      <td>56.180876</td>\n",
       "      <td>58.035073</td>\n",
       "      <td>56.189444</td>\n",
       "      <td>58.030529</td>\n",
       "      <td>POLYGON ((56.18088 58.03502, 56.18934 58.03507...</td>\n",
       "    </tr>\n",
       "    <tr>\n",
       "      <th>1</th>\n",
       "      <td>2</td>\n",
       "      <td>56.180979</td>\n",
       "      <td>58.030583</td>\n",
       "      <td>56.189546</td>\n",
       "      <td>58.026038</td>\n",
       "      <td>POLYGON ((56.18098 58.03053, 56.18944 58.03058...</td>\n",
       "    </tr>\n",
       "    <tr>\n",
       "      <th>2</th>\n",
       "      <td>3</td>\n",
       "      <td>56.181081</td>\n",
       "      <td>58.026092</td>\n",
       "      <td>56.189647</td>\n",
       "      <td>58.021548</td>\n",
       "      <td>POLYGON ((56.18108 58.02604, 56.18955 58.02609...</td>\n",
       "    </tr>\n",
       "    <tr>\n",
       "      <th>3</th>\n",
       "      <td>4</td>\n",
       "      <td>56.181184</td>\n",
       "      <td>58.021602</td>\n",
       "      <td>56.189749</td>\n",
       "      <td>58.017057</td>\n",
       "      <td>POLYGON ((56.18118 58.02155, 56.18965 58.02160...</td>\n",
       "    </tr>\n",
       "    <tr>\n",
       "      <th>4</th>\n",
       "      <td>5</td>\n",
       "      <td>56.181287</td>\n",
       "      <td>58.017111</td>\n",
       "      <td>56.189850</td>\n",
       "      <td>58.012567</td>\n",
       "      <td>POLYGON ((56.18129 58.01706, 56.18975 58.01711...</td>\n",
       "    </tr>\n",
       "    <tr>\n",
       "      <th>5</th>\n",
       "      <td>6</td>\n",
       "      <td>56.181389</td>\n",
       "      <td>58.012621</td>\n",
       "      <td>56.189952</td>\n",
       "      <td>58.008076</td>\n",
       "      <td>POLYGON ((56.18139 58.01257, 56.18985 58.01262...</td>\n",
       "    </tr>\n",
       "  </tbody>\n",
       "</table>\n",
       "</div>"
      ],
      "text/plain": [
       "   id       left        top      right     bottom  \\\n",
       "0   1  56.180876  58.035073  56.189444  58.030529   \n",
       "1   2  56.180979  58.030583  56.189546  58.026038   \n",
       "2   3  56.181081  58.026092  56.189647  58.021548   \n",
       "3   4  56.181184  58.021602  56.189749  58.017057   \n",
       "4   5  56.181287  58.017111  56.189850  58.012567   \n",
       "5   6  56.181389  58.012621  56.189952  58.008076   \n",
       "\n",
       "                                            geometry  \n",
       "0  POLYGON ((56.18088 58.03502, 56.18934 58.03507...  \n",
       "1  POLYGON ((56.18098 58.03053, 56.18944 58.03058...  \n",
       "2  POLYGON ((56.18108 58.02604, 56.18955 58.02609...  \n",
       "3  POLYGON ((56.18118 58.02155, 56.18965 58.02160...  \n",
       "4  POLYGON ((56.18129 58.01706, 56.18975 58.01711...  \n",
       "5  POLYGON ((56.18139 58.01257, 56.18985 58.01262...  "
      ]
     },
     "execution_count": 3,
     "metadata": {},
     "output_type": "execute_result"
    }
   ],
   "source": [
    "grid = gpd.read_file('data/grid_500.geojson')\n",
    "grid[['left', 'bottom', 'right', 'top']] = grid['geometry'].bounds\n",
    "grid.head(6)"
   ]
  },
  {
   "cell_type": "code",
   "execution_count": 5,
   "metadata": {
    "ExecuteTime": {
     "end_time": "2021-03-30T14:04:14.012172Z",
     "start_time": "2021-03-30T14:04:13.991802Z"
    }
   },
   "outputs": [],
   "source": [
    "grid = grid.loc[200:800]"
   ]
  },
  {
   "cell_type": "code",
   "execution_count": 4,
   "metadata": {
    "ExecuteTime": {
     "end_time": "2021-04-21T09:59:22.785961Z",
     "start_time": "2021-04-21T09:59:22.777230Z"
    }
   },
   "outputs": [
    {
     "data": {
      "text/plain": [
       "210"
      ]
     },
     "execution_count": 4,
     "metadata": {},
     "output_type": "execute_result"
    }
   ],
   "source": [
    "len(grid)"
   ]
  },
  {
   "cell_type": "markdown",
   "metadata": {
    "ExecuteTime": {
     "end_time": "2021-02-19T10:45:25.562898Z",
     "start_time": "2021-02-19T10:45:25.552923Z"
    }
   },
   "source": [
    "__API: generator = geosearch__"
   ]
  },
  {
   "cell_type": "code",
   "execution_count": 5,
   "metadata": {
    "ExecuteTime": {
     "end_time": "2021-04-21T10:01:19.283889Z",
     "start_time": "2021-04-21T09:59:31.871955Z"
    }
   },
   "outputs": [
    {
     "data": {
      "application/vnd.jupyter.widget-view+json": {
       "model_id": "946f4f1c877141c9a892a484d8fbd391",
       "version_major": 2,
       "version_minor": 0
      },
      "text/plain": [
       "HBox(children=(IntProgress(value=0, max=210), HTML(value='')))"
      ]
     },
     "metadata": {},
     "output_type": "display_data"
    },
    {
     "name": "stdout",
     "output_type": "stream",
     "text": [
      "1\n",
      "2\n",
      "3\n",
      "4\n",
      "5\n",
      "8\n",
      "10\n",
      "11\n",
      "14\n",
      "15\n",
      "16\n",
      "17\n",
      "18\n",
      "23\n",
      "24\n",
      "25\n",
      "26\n",
      "28\n",
      "29\n",
      "30\n",
      "31\n",
      "32\n",
      "33\n",
      "36\n",
      "37\n",
      "39\n",
      "41\n",
      "43\n",
      "44\n",
      "45\n",
      "46\n",
      "48\n",
      "49\n",
      "50\n",
      "51\n",
      "52\n",
      "53\n",
      "54\n",
      "56\n",
      "58\n",
      "59\n",
      "61\n",
      "64\n",
      "66\n",
      "67\n",
      "68\n",
      "69\n",
      "70\n",
      "71\n",
      "72\n",
      "73\n",
      "74\n",
      "79\n",
      "80\n",
      "81\n",
      "82\n",
      "83\n",
      "84\n",
      "85\n",
      "86\n",
      "87\n",
      "88\n",
      "93\n",
      "94\n",
      "95\n",
      "96\n",
      "97\n",
      "98\n",
      "99\n",
      "100\n",
      "101\n",
      "107\n",
      "109\n",
      "110\n",
      "111\n",
      "112\n",
      "113\n",
      "114\n",
      "115\n",
      "121\n",
      "123\n",
      "127\n",
      "128\n",
      "130\n",
      "133\n",
      "135\n",
      "136\n",
      "137\n",
      "138\n",
      "139\n",
      "140\n",
      "141\n",
      "142\n",
      "143\n",
      "147\n",
      "148\n",
      "149\n",
      "150\n",
      "151\n",
      "152\n",
      "153\n",
      "154\n",
      "155\n",
      "156\n",
      "157\n",
      "159\n",
      "161\n",
      "162\n",
      "163\n",
      "164\n",
      "165\n",
      "166\n",
      "167\n",
      "169\n",
      "170\n",
      "172\n",
      "176\n",
      "177\n",
      "178\n",
      "179\n",
      "180\n",
      "181\n",
      "183\n",
      "184\n",
      "186\n",
      "187\n",
      "188\n",
      "190\n",
      "191\n",
      "192\n",
      "193\n",
      "194\n",
      "195\n",
      "196\n",
      "198\n",
      "199\n",
      "200\n",
      "201\n",
      "202\n",
      "204\n",
      "205\n",
      "207\n",
      "208\n",
      "209\n",
      "210\n",
      "\n"
     ]
    }
   ],
   "source": [
    "allData2 = pd.DataFrame()\n",
    "API_URL = 'https://ru.wikipedia.org/w/api.php?action=query&generator=geosearch&ggslimit=500&'\n",
    "\n",
    "for i in tqdm_notebook(grid.index):\n",
    "    try:\n",
    "        maxlon = grid.loc[i,'right']\n",
    "        maxlat = grid.loc[i,'top']\n",
    "        minlon = grid.loc[i,'left']\n",
    "        minlat = grid.loc[i,'bottom']\n",
    "        cell_id = grid.loc[i, 'id']\n",
    "\n",
    "        params={'ggsbbox': '{}|{}|{}|{}'.format(maxlat, minlon, minlat, maxlon),\n",
    "                'redirects': 1,\n",
    "                'prop': 'coordinates|pageviews|langlinkscount|info',\n",
    "                'format':'json'}\n",
    "\n",
    "        response = requests.get(API_URL, params=params)\n",
    "        response_data = response.json()\n",
    "\n",
    "        df_pages = pd.DataFrame.from_dict(response_data['query']['pages'], orient=\"index\")\n",
    "\n",
    "        df_pages[['lat', 'lon']] = df_pages.apply(get_coordinates, axis = 1, result_type=\"expand\")\n",
    "        \n",
    "        df_pages = df_pages.drop(labels = 'index', axis =1 )\n",
    "        df_pages['pageviews'] = np.where(df_pages['pageviews'].isnull(), 0, df_pages['pageviews'])\n",
    "        df_pages['count_pageviews'] = df_pages['pageviews'].apply(lambda x: pageviews_sum(x))\n",
    "\n",
    "        df_pages['cell_id'] = cell_id\n",
    "        allData2 = allData2.append(df_pages)\n",
    "    except:\n",
    "        print(cell_id)"
   ]
  },
  {
   "cell_type": "code",
   "execution_count": 6,
   "metadata": {
    "ExecuteTime": {
     "end_time": "2021-04-21T10:01:19.317149Z",
     "start_time": "2021-04-21T10:01:19.289505Z"
    }
   },
   "outputs": [
    {
     "data": {
      "text/plain": [
       "197"
      ]
     },
     "execution_count": 6,
     "metadata": {},
     "output_type": "execute_result"
    }
   ],
   "source": [
    "len(allData2)"
   ]
  },
  {
   "cell_type": "code",
   "execution_count": 7,
   "metadata": {
    "ExecuteTime": {
     "end_time": "2021-04-21T10:01:19.368988Z",
     "start_time": "2021-04-21T10:01:19.336983Z"
    }
   },
   "outputs": [],
   "source": [
    "#сохраняем данные из api generator geosearch\n",
    "allData2.to_csv('bbox_wiki_perm.csv', index = False)"
   ]
  },
  {
   "cell_type": "markdown",
   "metadata": {},
   "source": [
    "__API: list=geosearch__"
   ]
  },
  {
   "cell_type": "code",
   "execution_count": 8,
   "metadata": {
    "ExecuteTime": {
     "end_time": "2021-04-21T10:02:56.007740Z",
     "start_time": "2021-04-21T10:01:19.390224Z"
    }
   },
   "outputs": [
    {
     "data": {
      "application/vnd.jupyter.widget-view+json": {
       "model_id": "9102a35a824e4046a2938891087b0a94",
       "version_major": 2,
       "version_minor": 0
      },
      "text/plain": [
       "HBox(children=(IntProgress(value=0, max=210), HTML(value='')))"
      ]
     },
     "metadata": {},
     "output_type": "display_data"
    },
    {
     "name": "stdout",
     "output_type": "stream",
     "text": [
      "\n"
     ]
    }
   ],
   "source": [
    "API_URL = 'https://ru.wikipedia.org/w/api.php?action=query'\n",
    "\n",
    "allData = pd.DataFrame()\n",
    "for i in tqdm_notebook(grid.index):\n",
    "    try: \n",
    "        maxlon = grid.loc[i,'right']\n",
    "        maxlat = grid.loc[i,'top']\n",
    "        minlon = grid.loc[i,'left']\n",
    "        minlat = grid.loc[i,'bottom']\n",
    "        cell_id = grid.loc[i, 'id']\n",
    "\n",
    "        params={'list': 'geosearch',\n",
    "                'gsbbox': '{}|{}|{}|{}'.format(maxlat, minlon, minlat, maxlon),\n",
    "                'gslimit': 500,\n",
    "                'redirects': 1,\n",
    "                'prop': 'coordinates|categories|pageviews|langlinkscount',\n",
    "                'format':'json'}\n",
    "\n",
    "        response = requests.get(API_URL, params=params)\n",
    "        response_data = response.json()\n",
    "        geodata = pd.DataFrame(response_data['query']['geosearch'])\n",
    "        geodata['cell_id'] = cell_id\n",
    "        allData = allData.append(geodata)\n",
    "    except:\n",
    "        print(i)"
   ]
  },
  {
   "cell_type": "code",
   "execution_count": 9,
   "metadata": {
    "ExecuteTime": {
     "end_time": "2021-04-21T10:02:56.031680Z",
     "start_time": "2021-04-21T10:02:56.021067Z"
    }
   },
   "outputs": [
    {
     "data": {
      "text/plain": [
       "197"
      ]
     },
     "execution_count": 9,
     "metadata": {},
     "output_type": "execute_result"
    }
   ],
   "source": [
    "len(allData)"
   ]
  },
  {
   "cell_type": "code",
   "execution_count": 10,
   "metadata": {
    "ExecuteTime": {
     "end_time": "2021-04-21T10:02:56.091296Z",
     "start_time": "2021-04-21T10:02:56.040535Z"
    }
   },
   "outputs": [
    {
     "data": {
      "text/html": [
       "<div>\n",
       "<style scoped>\n",
       "    .dataframe tbody tr th:only-of-type {\n",
       "        vertical-align: middle;\n",
       "    }\n",
       "\n",
       "    .dataframe tbody tr th {\n",
       "        vertical-align: top;\n",
       "    }\n",
       "\n",
       "    .dataframe thead th {\n",
       "        text-align: right;\n",
       "    }\n",
       "</style>\n",
       "<table border=\"1\" class=\"dataframe\">\n",
       "  <thead>\n",
       "    <tr style=\"text-align: right;\">\n",
       "      <th></th>\n",
       "      <th>cell_id</th>\n",
       "      <th>pageid</th>\n",
       "      <th>ns</th>\n",
       "      <th>title</th>\n",
       "      <th>lat</th>\n",
       "      <th>lon</th>\n",
       "      <th>dist</th>\n",
       "      <th>primary</th>\n",
       "    </tr>\n",
       "  </thead>\n",
       "  <tbody>\n",
       "    <tr>\n",
       "      <th>0</th>\n",
       "      <td>6</td>\n",
       "      <td>2145318.0</td>\n",
       "      <td>0.0</td>\n",
       "      <td>Улица Дзержинского (Пермь)</td>\n",
       "      <td>58.00889</td>\n",
       "      <td>56.18333</td>\n",
       "      <td>212.8</td>\n",
       "      <td></td>\n",
       "    </tr>\n",
       "    <tr>\n",
       "      <th>0</th>\n",
       "      <td>7</td>\n",
       "      <td>293990.0</td>\n",
       "      <td>0.0</td>\n",
       "      <td>Пермский государственный университет</td>\n",
       "      <td>58.00750</td>\n",
       "      <td>56.18667</td>\n",
       "      <td>190.1</td>\n",
       "      <td></td>\n",
       "    </tr>\n",
       "    <tr>\n",
       "      <th>1</th>\n",
       "      <td>7</td>\n",
       "      <td>8615761.0</td>\n",
       "      <td>0.0</td>\n",
       "      <td>Здание бывшего ночлежного дома имени Е. И. Меш...</td>\n",
       "      <td>58.00700</td>\n",
       "      <td>56.18860</td>\n",
       "      <td>209.5</td>\n",
       "      <td></td>\n",
       "    </tr>\n",
       "    <tr>\n",
       "      <th>2</th>\n",
       "      <td>7</td>\n",
       "      <td>5457807.0</td>\n",
       "      <td>0.0</td>\n",
       "      <td>Естественнонаучный институт Пермского государс...</td>\n",
       "      <td>58.00800</td>\n",
       "      <td>56.18880</td>\n",
       "      <td>297.6</td>\n",
       "      <td></td>\n",
       "    </tr>\n",
       "    <tr>\n",
       "      <th>0</th>\n",
       "      <td>9</td>\n",
       "      <td>294140.0</td>\n",
       "      <td>0.0</td>\n",
       "      <td>Школа № 146 (Пермь)</td>\n",
       "      <td>57.99750</td>\n",
       "      <td>56.18380</td>\n",
       "      <td>145.8</td>\n",
       "      <td></td>\n",
       "    </tr>\n",
       "  </tbody>\n",
       "</table>\n",
       "</div>"
      ],
      "text/plain": [
       "   cell_id     pageid   ns                                              title  \\\n",
       "0        6  2145318.0  0.0                         Улица Дзержинского (Пермь)   \n",
       "0        7   293990.0  0.0               Пермский государственный университет   \n",
       "1        7  8615761.0  0.0  Здание бывшего ночлежного дома имени Е. И. Меш...   \n",
       "2        7  5457807.0  0.0  Естественнонаучный институт Пермского государс...   \n",
       "0        9   294140.0  0.0                                Школа № 146 (Пермь)   \n",
       "\n",
       "        lat       lon   dist primary  \n",
       "0  58.00889  56.18333  212.8          \n",
       "0  58.00750  56.18667  190.1          \n",
       "1  58.00700  56.18860  209.5          \n",
       "2  58.00800  56.18880  297.6          \n",
       "0  57.99750  56.18380  145.8          "
      ]
     },
     "execution_count": 10,
     "metadata": {},
     "output_type": "execute_result"
    }
   ],
   "source": [
    "allData.head()"
   ]
  },
  {
   "cell_type": "code",
   "execution_count": 11,
   "metadata": {
    "ExecuteTime": {
     "end_time": "2021-04-21T10:02:56.211045Z",
     "start_time": "2021-04-21T10:02:56.163438Z"
    }
   },
   "outputs": [],
   "source": [
    "allData.to_csv('wiki_list_geosearch_500_perm.csv', index = False)"
   ]
  },
  {
   "cell_type": "markdown",
   "metadata": {},
   "source": [
    "__Load data using SparQL__"
   ]
  },
  {
   "cell_type": "code",
   "execution_count": 12,
   "metadata": {
    "ExecuteTime": {
     "end_time": "2021-04-21T10:02:56.362072Z",
     "start_time": "2021-04-21T10:02:56.216830Z"
    }
   },
   "outputs": [],
   "source": [
    "#получаем координаты bbox для сетки\n",
    "lonmin, latmin, lonmax, latmax = grid.unary_union.bounds"
   ]
  },
  {
   "cell_type": "code",
   "execution_count": 38,
   "metadata": {
    "ExecuteTime": {
     "end_time": "2021-04-21T12:10:14.753804Z",
     "start_time": "2021-04-21T12:10:12.025443Z"
    }
   },
   "outputs": [],
   "source": [
    "sparql_query = \"\"\"\n",
    "SELECT ?place ?placeLabel ?location ?fame WHERE {\n",
    "  SERVICE wikibase:box {\n",
    "    ?place wdt:P625 ?location .\n",
    "    bd:serviceParam wikibase:cornerWest \"Point(\"\"\" + str(lonmin) + \"\"\" \"\"\"+  str(latmin) +\"\"\")\"^^geo:wktLiteral .\n",
    "    bd:serviceParam wikibase:cornerEast \"Point(\"\"\" + str(lonmax) + \"\"\" \"\"\"+  str(latmax) +\"\"\")\"^^geo:wktLiteral .\n",
    "  }\n",
    "  ?place wikibase:sitelinks ?fame\n",
    "  SERVICE wikibase:label {\n",
    "    bd:serviceParam wikibase:language \"ru\" . \n",
    "  }\n",
    "}\n",
    "\"\"\"\n",
    "res = return_sparql_query_results(sparql_query)"
   ]
  },
  {
   "cell_type": "code",
   "execution_count": 39,
   "metadata": {
    "ExecuteTime": {
     "end_time": "2021-04-21T12:10:14.805265Z",
     "start_time": "2021-04-21T12:10:14.761902Z"
    }
   },
   "outputs": [
    {
     "data": {
      "text/html": [
       "<div>\n",
       "<style scoped>\n",
       "    .dataframe tbody tr th:only-of-type {\n",
       "        vertical-align: middle;\n",
       "    }\n",
       "\n",
       "    .dataframe tbody tr th {\n",
       "        vertical-align: top;\n",
       "    }\n",
       "\n",
       "    .dataframe thead th {\n",
       "        text-align: right;\n",
       "    }\n",
       "</style>\n",
       "<table border=\"1\" class=\"dataframe\">\n",
       "  <thead>\n",
       "    <tr style=\"text-align: right;\">\n",
       "      <th></th>\n",
       "      <th>place</th>\n",
       "      <th>location</th>\n",
       "      <th>fame</th>\n",
       "      <th>placeLabel</th>\n",
       "    </tr>\n",
       "  </thead>\n",
       "  <tbody>\n",
       "    <tr>\n",
       "      <th>0</th>\n",
       "      <td>http://www.wikidata.org/entity/Q915</td>\n",
       "      <td>Point(56.248888888 58.013888888)</td>\n",
       "      <td>125</td>\n",
       "      <td>Пермь</td>\n",
       "    </tr>\n",
       "    <tr>\n",
       "      <th>1</th>\n",
       "      <td>http://www.wikidata.org/entity/Q115035</td>\n",
       "      <td>Point(56.246052 58.015975)</td>\n",
       "      <td>10</td>\n",
       "      <td>Пермский академический театр оперы и балета им...</td>\n",
       "    </tr>\n",
       "    <tr>\n",
       "      <th>2</th>\n",
       "      <td>http://www.wikidata.org/entity/Q846866</td>\n",
       "      <td>Point(56.248888888 58.013888888)</td>\n",
       "      <td>23</td>\n",
       "      <td>Пермская область</td>\n",
       "    </tr>\n",
       "    <tr>\n",
       "      <th>3</th>\n",
       "      <td>http://www.wikidata.org/entity/Q1076316</td>\n",
       "      <td>Point(56.2694 58.0168)</td>\n",
       "      <td>5</td>\n",
       "      <td>Стикс</td>\n",
       "    </tr>\n",
       "    <tr>\n",
       "      <th>4</th>\n",
       "      <td>http://www.wikidata.org/entity/Q1124098</td>\n",
       "      <td>Point(56.248888888 58.013888888)</td>\n",
       "      <td>26</td>\n",
       "      <td>Пермская губерния</td>\n",
       "    </tr>\n",
       "  </tbody>\n",
       "</table>\n",
       "</div>"
      ],
      "text/plain": [
       "                                     place                          location  \\\n",
       "0      http://www.wikidata.org/entity/Q915  Point(56.248888888 58.013888888)   \n",
       "1   http://www.wikidata.org/entity/Q115035        Point(56.246052 58.015975)   \n",
       "2   http://www.wikidata.org/entity/Q846866  Point(56.248888888 58.013888888)   \n",
       "3  http://www.wikidata.org/entity/Q1076316            Point(56.2694 58.0168)   \n",
       "4  http://www.wikidata.org/entity/Q1124098  Point(56.248888888 58.013888888)   \n",
       "\n",
       "  fame                                         placeLabel  \n",
       "0  125                                              Пермь  \n",
       "1   10  Пермский академический театр оперы и балета им...  \n",
       "2   23                                   Пермская область  \n",
       "3    5                                              Стикс  \n",
       "4   26                                  Пермская губерния  "
      ]
     },
     "execution_count": 39,
     "metadata": {},
     "output_type": "execute_result"
    }
   ],
   "source": [
    "#из данных sparql извлекаем нужные поля\n",
    "res_df = pd.DataFrame.from_dict(res['results']['bindings'])\n",
    "\n",
    "res_df['place'] = res_df['place'].apply(lambda x: x['value'])\n",
    "res_df['location'] = res_df['location'].apply(lambda x: x['value'])\n",
    "res_df['fame'] = res_df['fame'].apply(lambda x: x['value'])\n",
    "res_df['placeLabel'] = res_df['placeLabel'].apply(lambda x: x['value'])\n",
    "\n",
    "res_df.head()"
   ]
  },
  {
   "cell_type": "code",
   "execution_count": 40,
   "metadata": {
    "ExecuteTime": {
     "end_time": "2021-04-21T12:10:14.822925Z",
     "start_time": "2021-04-21T12:10:14.811022Z"
    }
   },
   "outputs": [
    {
     "data": {
      "text/plain": [
       "184"
      ]
     },
     "execution_count": 40,
     "metadata": {},
     "output_type": "execute_result"
    }
   ],
   "source": [
    "len(res_df)"
   ]
  },
  {
   "cell_type": "code",
   "execution_count": 41,
   "metadata": {
    "ExecuteTime": {
     "end_time": "2021-04-21T12:10:16.370412Z",
     "start_time": "2021-04-21T12:10:16.348730Z"
    }
   },
   "outputs": [],
   "source": [
    "res_df.to_csv('wiki_sparql_test_perm.csv', index = False)"
   ]
  },
  {
   "cell_type": "markdown",
   "metadata": {},
   "source": [
    "__Get pageviews for wikidata entities__"
   ]
  },
  {
   "cell_type": "code",
   "execution_count": 42,
   "metadata": {
    "ExecuteTime": {
     "end_time": "2021-04-21T12:12:58.578442Z",
     "start_time": "2021-04-21T12:10:18.079622Z"
    }
   },
   "outputs": [
    {
     "data": {
      "application/vnd.jupyter.widget-view+json": {
       "model_id": "e05bd047a86645e388d598a09e48d422",
       "version_major": 2,
       "version_minor": 0
      },
      "text/plain": [
       "HBox(children=(IntProgress(value=0, max=184), HTML(value='')))"
      ]
     },
     "metadata": {},
     "output_type": "display_data"
    },
    {
     "name": "stdout",
     "output_type": "stream",
     "text": [
      "54\n",
      "69\n",
      "70\n",
      "71\n",
      "73\n",
      "75\n",
      "76\n",
      "77\n",
      "78\n",
      "79\n",
      "163\n",
      "164\n",
      "165\n",
      "166\n",
      "168\n",
      "169\n",
      "170\n",
      "171\n",
      "172\n",
      "173\n",
      "174\n",
      "175\n",
      "176\n",
      "177\n",
      "178\n",
      "179\n",
      "180\n",
      "183\n",
      "\n"
     ]
    }
   ],
   "source": [
    "for i in tqdm_notebook(res_df.index):\n",
    "    try:\n",
    "        wiki_id = res_df.loc[i, 'place'].split('/')[-1]\n",
    "        page_url = 'https://www.wikidata.org/w/api.php?action=wbgetentities&format=json&props=sitelinks'\n",
    "        params = {'ids': wiki_id,\n",
    "                 'sitefilter':'ruwiki'}\n",
    "        response = requests.get(page_url, params=params)\n",
    "        response_data = response.json()\n",
    "\n",
    "\n",
    "        page_title = response_data['entities'][wiki_id]['sitelinks']['ruwiki']['title']\n",
    "\n",
    "        title_url = 'https://ru.wikipedia.org/w/api.php?action=query&'\n",
    "\n",
    "        params = {'titles': page_title,\n",
    "                  'format': 'json',\n",
    "                  'prop': 'categories|pageviews|langlinkscount'}\n",
    "        response = requests.get(title_url, params=params)\n",
    "        response_data = response.json()\n",
    "\n",
    "        df_pages = pd.DataFrame.from_dict(response_data['query']['pages'], orient=\"index\")\n",
    "        res_df.loc[i, 'pageid'] = int(df_pages['pageid'])\n",
    "        res_df.loc[i, 'pageviews'] = np.where(df_pages['pageviews'].isnull(), 0, df_pages['pageviews'])\n",
    "        res_df.loc[i, 'count_pageviews'] = int(df_pages['pageviews'].apply(lambda x: pageviews_sum(x)))\n",
    "    except:\n",
    "        print(i)"
   ]
  },
  {
   "cell_type": "markdown",
   "metadata": {},
   "source": [
    "__Combine all wiki sourse__"
   ]
  },
  {
   "cell_type": "code",
   "execution_count": 43,
   "metadata": {
    "ExecuteTime": {
     "end_time": "2021-04-21T12:12:58.599401Z",
     "start_time": "2021-04-21T12:12:58.587767Z"
    }
   },
   "outputs": [],
   "source": [
    "allData['pageid'] = allData['pageid'].astype(int)"
   ]
  },
  {
   "cell_type": "code",
   "execution_count": 44,
   "metadata": {
    "ExecuteTime": {
     "end_time": "2021-04-21T12:12:58.631236Z",
     "start_time": "2021-04-21T12:12:58.603747Z"
    }
   },
   "outputs": [
    {
     "data": {
      "text/plain": [
       "Index(['pageid', 'ns', 'title', 'coordinates', 'pageviews', 'contentmodel',\n",
       "       'pagelanguage', 'pagelanguagehtmlcode', 'pagelanguagedir', 'touched',\n",
       "       'lastrevid', 'length', 'lat', 'lon', 'count_pageviews', 'cell_id',\n",
       "       'langlinkscount'],\n",
       "      dtype='object')"
      ]
     },
     "execution_count": 44,
     "metadata": {},
     "output_type": "execute_result"
    }
   ],
   "source": [
    "allData2.columns"
   ]
  },
  {
   "cell_type": "code",
   "execution_count": 45,
   "metadata": {
    "ExecuteTime": {
     "end_time": "2021-04-21T12:12:58.649367Z",
     "start_time": "2021-04-21T12:12:58.639394Z"
    }
   },
   "outputs": [
    {
     "data": {
      "text/plain": [
       "Index(['cell_id', 'pageid', 'ns', 'title', 'lat', 'lon', 'dist', 'primary'], dtype='object')"
      ]
     },
     "execution_count": 45,
     "metadata": {},
     "output_type": "execute_result"
    }
   ],
   "source": [
    "allData.columns"
   ]
  },
  {
   "cell_type": "code",
   "execution_count": 46,
   "metadata": {
    "ExecuteTime": {
     "end_time": "2021-04-21T12:12:58.725436Z",
     "start_time": "2021-04-21T12:12:58.654689Z"
    }
   },
   "outputs": [
    {
     "data": {
      "text/html": [
       "<div>\n",
       "<style scoped>\n",
       "    .dataframe tbody tr th:only-of-type {\n",
       "        vertical-align: middle;\n",
       "    }\n",
       "\n",
       "    .dataframe tbody tr th {\n",
       "        vertical-align: top;\n",
       "    }\n",
       "\n",
       "    .dataframe thead th {\n",
       "        text-align: right;\n",
       "    }\n",
       "</style>\n",
       "<table border=\"1\" class=\"dataframe\">\n",
       "  <thead>\n",
       "    <tr style=\"text-align: right;\">\n",
       "      <th></th>\n",
       "      <th>pageid</th>\n",
       "      <th>title</th>\n",
       "      <th>lon</th>\n",
       "      <th>lat</th>\n",
       "      <th>pageviews</th>\n",
       "      <th>count_pageviews</th>\n",
       "    </tr>\n",
       "  </thead>\n",
       "  <tbody>\n",
       "    <tr>\n",
       "      <th>0</th>\n",
       "      <td>2145318</td>\n",
       "      <td>Улица Дзержинского (Пермь)</td>\n",
       "      <td>56.18333</td>\n",
       "      <td>58.00889</td>\n",
       "      <td>{'2021-02-20': 2, '2021-02-21': 2, '2021-02-22...</td>\n",
       "      <td>129</td>\n",
       "    </tr>\n",
       "    <tr>\n",
       "      <th>1</th>\n",
       "      <td>293990</td>\n",
       "      <td>Пермский государственный университет</td>\n",
       "      <td>56.18667</td>\n",
       "      <td>58.00750</td>\n",
       "      <td>{'2021-02-20': 63, '2021-02-21': 64, '2021-02-...</td>\n",
       "      <td>4450</td>\n",
       "    </tr>\n",
       "    <tr>\n",
       "      <th>2</th>\n",
       "      <td>5457807</td>\n",
       "      <td>Естественнонаучный институт Пермского государс...</td>\n",
       "      <td>56.18880</td>\n",
       "      <td>58.00800</td>\n",
       "      <td>{'2021-02-20': 1, '2021-02-21': 1, '2021-02-22...</td>\n",
       "      <td>115</td>\n",
       "    </tr>\n",
       "    <tr>\n",
       "      <th>3</th>\n",
       "      <td>8615761</td>\n",
       "      <td>Здание бывшего ночлежного дома имени Е. И. Меш...</td>\n",
       "      <td>56.18860</td>\n",
       "      <td>58.00700</td>\n",
       "      <td>{'2021-02-20': 4, '2021-02-21': 1, '2021-02-22...</td>\n",
       "      <td>74</td>\n",
       "    </tr>\n",
       "    <tr>\n",
       "      <th>4</th>\n",
       "      <td>294140</td>\n",
       "      <td>Школа № 146 (Пермь)</td>\n",
       "      <td>56.18380</td>\n",
       "      <td>57.99750</td>\n",
       "      <td>{'2021-02-20': 14, '2021-02-21': 6, '2021-02-2...</td>\n",
       "      <td>706</td>\n",
       "    </tr>\n",
       "  </tbody>\n",
       "</table>\n",
       "</div>"
      ],
      "text/plain": [
       "    pageid                                              title       lon  \\\n",
       "0  2145318                         Улица Дзержинского (Пермь)  56.18333   \n",
       "1   293990               Пермский государственный университет  56.18667   \n",
       "2  5457807  Естественнонаучный институт Пермского государс...  56.18880   \n",
       "3  8615761  Здание бывшего ночлежного дома имени Е. И. Меш...  56.18860   \n",
       "4   294140                                Школа № 146 (Пермь)  56.18380   \n",
       "\n",
       "        lat                                          pageviews  \\\n",
       "0  58.00889  {'2021-02-20': 2, '2021-02-21': 2, '2021-02-22...   \n",
       "1  58.00750  {'2021-02-20': 63, '2021-02-21': 64, '2021-02-...   \n",
       "2  58.00800  {'2021-02-20': 1, '2021-02-21': 1, '2021-02-22...   \n",
       "3  58.00700  {'2021-02-20': 4, '2021-02-21': 1, '2021-02-22...   \n",
       "4  57.99750  {'2021-02-20': 14, '2021-02-21': 6, '2021-02-2...   \n",
       "\n",
       "   count_pageviews  \n",
       "0              129  \n",
       "1             4450  \n",
       "2              115  \n",
       "3               74  \n",
       "4              706  "
      ]
     },
     "execution_count": 46,
     "metadata": {},
     "output_type": "execute_result"
    }
   ],
   "source": [
    "#объединяем первые две выгрузки generator geosearch и list geosearch\n",
    "combine_geosearch = pd.merge(allData2, allData, on = ['pageid', 'title'], how = 'left')\n",
    "\n",
    "\n",
    "#сохраняем одну пару координат в колонках lon и lat\n",
    "combine_geosearch['lon'] = np.where((combine_geosearch['lon_x'] == 0) & \\\n",
    "                           (combine_geosearch['lon_y']!=0), combine_geosearch['lon_y'], combine_geosearch['lon_x'])\n",
    "\n",
    "combine_geosearch['lat'] = np.where((combine_geosearch['lat_x'] == 0) & \\\n",
    "                           (combine_geosearch['lat_y']!=0), combine_geosearch['lat_y'], combine_geosearch['lat_x'])\n",
    "\n",
    "cols = ['pageid', 'title', 'lon', 'lat', 'pageviews', 'count_pageviews']\n",
    "combine_geosearch = combine_geosearch[cols]\n",
    "\n",
    "combine_geosearch.head()"
   ]
  },
  {
   "cell_type": "code",
   "execution_count": null,
   "metadata": {},
   "outputs": [],
   "source": []
  },
  {
   "cell_type": "code",
   "execution_count": 47,
   "metadata": {
    "ExecuteTime": {
     "end_time": "2021-04-21T12:12:58.799798Z",
     "start_time": "2021-04-21T12:12:58.728799Z"
    }
   },
   "outputs": [],
   "source": [
    "#готовим df из sparql к объединению с combine_geosearch\n",
    "res_df = res_df.dropna(subset = ['pageid', 'placeLabel'])\n",
    "res_df['pageid'] = res_df['pageid'].astype(int)\n",
    "#placeLabel переименовываем в title так как в предыдущем датасете название места хранится в поле title\n",
    "res_df = res_df.rename(columns = {'placeLabel':'title'})\n",
    "\n",
    "res_df['lon'] = res_df['location'].apply(lambda x: loads(x).x)\n",
    "res_df['lat'] = res_df['location'].apply(lambda x: loads(x).y)\n",
    "\n",
    "res_df = res_df[cols]"
   ]
  },
  {
   "cell_type": "code",
   "execution_count": 62,
   "metadata": {
    "ExecuteTime": {
     "end_time": "2021-04-21T12:32:05.412410Z",
     "start_time": "2021-04-21T12:32:05.350259Z"
    }
   },
   "outputs": [
    {
     "data": {
      "text/plain": [
       "201"
      ]
     },
     "execution_count": 62,
     "metadata": {},
     "output_type": "execute_result"
    }
   ],
   "source": [
    "#объединяем geosearch и sparql выгрузки\n",
    "allWiki = combine_geosearch.append(res_df)\n",
    "allWiki = allWiki.reset_index(drop=True)\n",
    "\n",
    "#удаляем возникшие дубликаты по pageid\n",
    "allWiki = allWiki.loc[allWiki.groupby(['pageid']).count_pageviews.idxmax()]\n",
    "\n",
    "len(allWiki)"
   ]
  },
  {
   "cell_type": "code",
   "execution_count": 63,
   "metadata": {
    "ExecuteTime": {
     "end_time": "2021-04-21T12:32:07.252344Z",
     "start_time": "2021-04-21T12:32:07.215040Z"
    }
   },
   "outputs": [
    {
     "data": {
      "text/html": [
       "<div>\n",
       "<style scoped>\n",
       "    .dataframe tbody tr th:only-of-type {\n",
       "        vertical-align: middle;\n",
       "    }\n",
       "\n",
       "    .dataframe tbody tr th {\n",
       "        vertical-align: top;\n",
       "    }\n",
       "\n",
       "    .dataframe thead th {\n",
       "        text-align: right;\n",
       "    }\n",
       "</style>\n",
       "<table border=\"1\" class=\"dataframe\">\n",
       "  <thead>\n",
       "    <tr style=\"text-align: right;\">\n",
       "      <th></th>\n",
       "      <th>pageid</th>\n",
       "      <th>title</th>\n",
       "      <th>lon</th>\n",
       "      <th>lat</th>\n",
       "      <th>pageviews</th>\n",
       "      <th>count_pageviews</th>\n",
       "    </tr>\n",
       "  </thead>\n",
       "  <tbody>\n",
       "    <tr>\n",
       "      <th>203</th>\n",
       "      <td>1105</td>\n",
       "      <td>Пермь</td>\n",
       "      <td>56.248889</td>\n",
       "      <td>58.013889</td>\n",
       "      <td>{'2021-02-20': 1331, '2021-02-21': 1297, '2021...</td>\n",
       "      <td>90242.0</td>\n",
       "    </tr>\n",
       "    <tr>\n",
       "      <th>205</th>\n",
       "      <td>13794</td>\n",
       "      <td>Пермская область</td>\n",
       "      <td>56.248889</td>\n",
       "      <td>58.013889</td>\n",
       "      <td>{'2021-02-20': 72, '2021-02-21': 65, '2021-02-...</td>\n",
       "      <td>5030.0</td>\n",
       "    </tr>\n",
       "    <tr>\n",
       "      <th>207</th>\n",
       "      <td>67181</td>\n",
       "      <td>Пермская губерния</td>\n",
       "      <td>56.248889</td>\n",
       "      <td>58.013889</td>\n",
       "      <td>{'2021-02-20': 65, '2021-02-21': 68, '2021-02-...</td>\n",
       "      <td>5022.0</td>\n",
       "    </tr>\n",
       "    <tr>\n",
       "      <th>229</th>\n",
       "      <td>165250</td>\n",
       "      <td>Пермский педагогический университет</td>\n",
       "      <td>56.255000</td>\n",
       "      <td>58.009000</td>\n",
       "      <td>{'2021-02-20': 4, '2021-02-21': 3, '2021-02-22...</td>\n",
       "      <td>594.0</td>\n",
       "    </tr>\n",
       "    <tr>\n",
       "      <th>199</th>\n",
       "      <td>165559</td>\n",
       "      <td>Мотовилихинские заводы</td>\n",
       "      <td>56.300000</td>\n",
       "      <td>58.035000</td>\n",
       "      <td>{'2021-02-20': 54, '2021-02-21': 54, '2021-02-...</td>\n",
       "      <td>3989.0</td>\n",
       "    </tr>\n",
       "  </tbody>\n",
       "</table>\n",
       "</div>"
      ],
      "text/plain": [
       "     pageid                                title        lon        lat  \\\n",
       "203    1105                                Пермь  56.248889  58.013889   \n",
       "205   13794                     Пермская область  56.248889  58.013889   \n",
       "207   67181                    Пермская губерния  56.248889  58.013889   \n",
       "229  165250  Пермский педагогический университет  56.255000  58.009000   \n",
       "199  165559               Мотовилихинские заводы  56.300000  58.035000   \n",
       "\n",
       "                                             pageviews  count_pageviews  \n",
       "203  {'2021-02-20': 1331, '2021-02-21': 1297, '2021...          90242.0  \n",
       "205  {'2021-02-20': 72, '2021-02-21': 65, '2021-02-...           5030.0  \n",
       "207  {'2021-02-20': 65, '2021-02-21': 68, '2021-02-...           5022.0  \n",
       "229  {'2021-02-20': 4, '2021-02-21': 3, '2021-02-22...            594.0  \n",
       "199  {'2021-02-20': 54, '2021-02-21': 54, '2021-02-...           3989.0  "
      ]
     },
     "execution_count": 63,
     "metadata": {},
     "output_type": "execute_result"
    }
   ],
   "source": [
    "allWiki.head()"
   ]
  },
  {
   "cell_type": "code",
   "execution_count": 64,
   "metadata": {
    "ExecuteTime": {
     "end_time": "2021-04-21T12:32:12.049362Z",
     "start_time": "2021-04-21T12:32:11.985522Z"
    }
   },
   "outputs": [],
   "source": [
    "allWiki.to_csv('data/wikipedia_geodata_{}_test.csv'.format(date.today().strftime(\"%Y%m%d\")), index = False)"
   ]
  }
 ],
 "metadata": {
  "kernelspec": {
   "display_name": "Python 3",
   "language": "python",
   "name": "python3"
  },
  "language_info": {
   "codemirror_mode": {
    "name": "ipython",
    "version": 3
   },
   "file_extension": ".py",
   "mimetype": "text/x-python",
   "name": "python",
   "nbconvert_exporter": "python",
   "pygments_lexer": "ipython3",
   "version": "3.7.4"
  },
  "toc": {
   "base_numbering": 1,
   "nav_menu": {},
   "number_sections": true,
   "sideBar": true,
   "skip_h1_title": false,
   "title_cell": "Table of Contents",
   "title_sidebar": "Contents",
   "toc_cell": false,
   "toc_position": {},
   "toc_section_display": true,
   "toc_window_display": false
  }
 },
 "nbformat": 4,
 "nbformat_minor": 2
}
