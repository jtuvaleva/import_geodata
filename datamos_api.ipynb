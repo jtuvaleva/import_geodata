{
 "cells": [
  {
   "cell_type": "markdown",
   "metadata": {},
   "source": [
    "__Загрузка нужных библиотек__"
   ]
  },
  {
   "cell_type": "code",
   "execution_count": 1,
   "metadata": {
    "ExecuteTime": {
     "end_time": "2021-09-02T21:12:14.992181Z",
     "start_time": "2021-09-02T21:12:13.657007Z"
    }
   },
   "outputs": [],
   "source": [
    "#для датафрейма\n",
    "import pandas as pd\n",
    "\n",
    "#для работы с геоданными\n",
    "import geopandas as gpd\n",
    "from shapely.geometry import Point, MultiLineString, shape\n",
    "\n",
    "#для работы с api-запросами\n",
    "import json\n",
    "import requests\n",
    "\n",
    "#для отслеживания прогресса обновления\n",
    "from tqdm import tqdm_notebook\n",
    "\n",
    "from datetime import date"
   ]
  },
  {
   "cell_type": "code",
   "execution_count": 2,
   "metadata": {
    "ExecuteTime": {
     "end_time": "2021-09-02T21:13:15.762597Z",
     "start_time": "2021-09-02T21:13:15.287832Z"
    }
   },
   "outputs": [
    {
     "data": {
      "text/html": [
       "<div>\n",
       "<style scoped>\n",
       "    .dataframe tbody tr th:only-of-type {\n",
       "        vertical-align: middle;\n",
       "    }\n",
       "\n",
       "    .dataframe tbody tr th {\n",
       "        vertical-align: top;\n",
       "    }\n",
       "\n",
       "    .dataframe thead th {\n",
       "        text-align: right;\n",
       "    }\n",
       "</style>\n",
       "<table border=\"1\" class=\"dataframe\">\n",
       "  <thead>\n",
       "    <tr style=\"text-align: right;\">\n",
       "      <th></th>\n",
       "      <th>id</th>\n",
       "      <th>left</th>\n",
       "      <th>top</th>\n",
       "      <th>right</th>\n",
       "      <th>bottom</th>\n",
       "      <th>geometry</th>\n",
       "    </tr>\n",
       "  </thead>\n",
       "  <tbody>\n",
       "    <tr>\n",
       "      <th>0</th>\n",
       "      <td>1</td>\n",
       "      <td>37.36509</td>\n",
       "      <td>55.913094</td>\n",
       "      <td>37.374074</td>\n",
       "      <td>55.908059</td>\n",
       "      <td>POLYGON ((37.36509 55.91309, 37.37407 55.91309...</td>\n",
       "    </tr>\n",
       "    <tr>\n",
       "      <th>1</th>\n",
       "      <td>2</td>\n",
       "      <td>37.36509</td>\n",
       "      <td>55.908059</td>\n",
       "      <td>37.374074</td>\n",
       "      <td>55.903023</td>\n",
       "      <td>POLYGON ((37.36509 55.90806, 37.37407 55.90806...</td>\n",
       "    </tr>\n",
       "    <tr>\n",
       "      <th>2</th>\n",
       "      <td>3</td>\n",
       "      <td>37.36509</td>\n",
       "      <td>55.903023</td>\n",
       "      <td>37.374074</td>\n",
       "      <td>55.897987</td>\n",
       "      <td>POLYGON ((37.36509 55.90302, 37.37407 55.90302...</td>\n",
       "    </tr>\n",
       "    <tr>\n",
       "      <th>3</th>\n",
       "      <td>4</td>\n",
       "      <td>37.36509</td>\n",
       "      <td>55.897987</td>\n",
       "      <td>37.374074</td>\n",
       "      <td>55.892950</td>\n",
       "      <td>POLYGON ((37.36509 55.89799, 37.37407 55.89799...</td>\n",
       "    </tr>\n",
       "    <tr>\n",
       "      <th>4</th>\n",
       "      <td>5</td>\n",
       "      <td>37.36509</td>\n",
       "      <td>55.892950</td>\n",
       "      <td>37.374074</td>\n",
       "      <td>55.887913</td>\n",
       "      <td>POLYGON ((37.36509 55.89295, 37.37407 55.89295...</td>\n",
       "    </tr>\n",
       "  </tbody>\n",
       "</table>\n",
       "</div>"
      ],
      "text/plain": [
       "   id      left        top      right     bottom  \\\n",
       "0   1  37.36509  55.913094  37.374074  55.908059   \n",
       "1   2  37.36509  55.908059  37.374074  55.903023   \n",
       "2   3  37.36509  55.903023  37.374074  55.897987   \n",
       "3   4  37.36509  55.897987  37.374074  55.892950   \n",
       "4   5  37.36509  55.892950  37.374074  55.887913   \n",
       "\n",
       "                                            geometry  \n",
       "0  POLYGON ((37.36509 55.91309, 37.37407 55.91309...  \n",
       "1  POLYGON ((37.36509 55.90806, 37.37407 55.90806...  \n",
       "2  POLYGON ((37.36509 55.90302, 37.37407 55.90302...  \n",
       "3  POLYGON ((37.36509 55.89799, 37.37407 55.89799...  \n",
       "4  POLYGON ((37.36509 55.89295, 37.37407 55.89295...  "
      ]
     },
     "execution_count": 2,
     "metadata": {},
     "output_type": "execute_result"
    }
   ],
   "source": [
    "grid = gpd.read_file('moscow_grid_1km.geojson')\n",
    "grid[['left', 'bottom', 'right', 'top']] = grid['geometry'].bounds\n",
    "grid.head()"
   ]
  },
  {
   "cell_type": "code",
   "execution_count": 3,
   "metadata": {
    "ExecuteTime": {
     "end_time": "2021-09-02T21:13:21.682372Z",
     "start_time": "2021-09-02T21:13:21.668741Z"
    }
   },
   "outputs": [],
   "source": [
    "#пустой датасет для сохранения выгруженных данных\n",
    "df_all = pd.DataFrame()"
   ]
  },
  {
   "cell_type": "code",
   "execution_count": 4,
   "metadata": {
    "ExecuteTime": {
     "end_time": "2021-09-02T21:13:48.669508Z",
     "start_time": "2021-09-02T21:13:28.565919Z"
    }
   },
   "outputs": [
    {
     "data": {
      "application/vnd.jupyter.widget-view+json": {
       "model_id": "01fc88bcc97b441ab46e726ce4bf61a1",
       "version_major": 2,
       "version_minor": 0
      },
      "text/plain": [
       "HBox(children=(IntProgress(value=0, max=5), HTML(value='')))"
      ]
     },
     "metadata": {},
     "output_type": "display_data"
    },
    {
     "name": "stdout",
     "output_type": "stream",
     "text": [
      "\n"
     ]
    }
   ],
   "source": [
    "for i in tqdm_notebook(grid.index[:5]):\n",
    "    try:\n",
    "        #координаты ббокса\n",
    "        lonmin = str(grid.loc[i,'left'])\n",
    "        latmin = str(grid.loc[i,'bottom'])\n",
    "        lonmax = str(grid.loc[i,'right'])\n",
    "        latmax = str(grid.loc[i,'top'])\n",
    "        bbox_string = lonmin+ ','+latmin + ','+ lonmax + ',' + latmax\n",
    "        #api ключ для получения доступа к datamos api\n",
    "        api_key = '5b5284f3584ee56d9f38ab982fc48ef0'\n",
    "        #параметры для get-запроса к datamos\n",
    "        parameters = {'api_key': api_key,\n",
    "                      'bbox': bbox_string}\n",
    "        #запрос с параметрами\n",
    "        response = requests.get(\"https://apidata.mos.ru/v1/features/60562\", params=parameters)\n",
    "        \n",
    "        #полученный ответ конвертируем в dataframe\n",
    "        df = response.json()\n",
    "        df_pd = pd.DataFrame(df['features'])\n",
    "        #добавляем выгруженные объекты в общую таблицу\n",
    "        df_all = df_all.append(df_pd)\n",
    "    except KeyError:\n",
    "        pass"
   ]
  },
  {
   "cell_type": "code",
   "execution_count": 5,
   "metadata": {
    "ExecuteTime": {
     "end_time": "2021-09-02T21:13:48.748583Z",
     "start_time": "2021-09-02T21:13:48.696939Z"
    }
   },
   "outputs": [
    {
     "data": {
      "text/html": [
       "<div>\n",
       "<style scoped>\n",
       "    .dataframe tbody tr th:only-of-type {\n",
       "        vertical-align: middle;\n",
       "    }\n",
       "\n",
       "    .dataframe tbody tr th {\n",
       "        vertical-align: top;\n",
       "    }\n",
       "\n",
       "    .dataframe thead th {\n",
       "        text-align: right;\n",
       "    }\n",
       "</style>\n",
       "<table border=\"1\" class=\"dataframe\">\n",
       "  <thead>\n",
       "    <tr style=\"text-align: right;\">\n",
       "      <th></th>\n",
       "      <th>geometry</th>\n",
       "      <th>properties</th>\n",
       "      <th>type</th>\n",
       "    </tr>\n",
       "  </thead>\n",
       "  <tbody>\n",
       "    <tr>\n",
       "      <th>0</th>\n",
       "      <td>{'coordinates': [[[37.3717167386076, 55.910395...</td>\n",
       "      <td>{'DatasetId': 60562, 'VersionNumber': 3, 'Rele...</td>\n",
       "      <td>Feature</td>\n",
       "    </tr>\n",
       "    <tr>\n",
       "      <th>1</th>\n",
       "      <td>{'coordinates': [[[37.3699869120991, 55.908806...</td>\n",
       "      <td>{'DatasetId': 60562, 'VersionNumber': 3, 'Rele...</td>\n",
       "      <td>Feature</td>\n",
       "    </tr>\n",
       "    <tr>\n",
       "      <th>2</th>\n",
       "      <td>{'coordinates': [[[37.3703042647069, 55.909498...</td>\n",
       "      <td>{'DatasetId': 60562, 'VersionNumber': 3, 'Rele...</td>\n",
       "      <td>Feature</td>\n",
       "    </tr>\n",
       "    <tr>\n",
       "      <th>3</th>\n",
       "      <td>{'coordinates': [[[37.37282465668, 55.90988053...</td>\n",
       "      <td>{'DatasetId': 60562, 'VersionNumber': 3, 'Rele...</td>\n",
       "      <td>Feature</td>\n",
       "    </tr>\n",
       "    <tr>\n",
       "      <th>4</th>\n",
       "      <td>{'coordinates': [[[37.3730061755201, 55.909847...</td>\n",
       "      <td>{'DatasetId': 60562, 'VersionNumber': 3, 'Rele...</td>\n",
       "      <td>Feature</td>\n",
       "    </tr>\n",
       "  </tbody>\n",
       "</table>\n",
       "</div>"
      ],
      "text/plain": [
       "                                            geometry  \\\n",
       "0  {'coordinates': [[[37.3717167386076, 55.910395...   \n",
       "1  {'coordinates': [[[37.3699869120991, 55.908806...   \n",
       "2  {'coordinates': [[[37.3703042647069, 55.909498...   \n",
       "3  {'coordinates': [[[37.37282465668, 55.90988053...   \n",
       "4  {'coordinates': [[[37.3730061755201, 55.909847...   \n",
       "\n",
       "                                          properties     type  \n",
       "0  {'DatasetId': 60562, 'VersionNumber': 3, 'Rele...  Feature  \n",
       "1  {'DatasetId': 60562, 'VersionNumber': 3, 'Rele...  Feature  \n",
       "2  {'DatasetId': 60562, 'VersionNumber': 3, 'Rele...  Feature  \n",
       "3  {'DatasetId': 60562, 'VersionNumber': 3, 'Rele...  Feature  \n",
       "4  {'DatasetId': 60562, 'VersionNumber': 3, 'Rele...  Feature  "
      ]
     },
     "execution_count": 5,
     "metadata": {},
     "output_type": "execute_result"
    }
   ],
   "source": [
    "df_all.head()"
   ]
  },
  {
   "cell_type": "code",
   "execution_count": 6,
   "metadata": {
    "ExecuteTime": {
     "end_time": "2021-09-02T21:13:48.769799Z",
     "start_time": "2021-09-02T21:13:48.758223Z"
    }
   },
   "outputs": [],
   "source": [
    "df_all = df_all.reset_index(drop=True)\n",
    "df_all['geometry'] = df_all['geometry'].apply(lambda x: shape(x))"
   ]
  },
  {
   "cell_type": "code",
   "execution_count": 7,
   "metadata": {
    "ExecuteTime": {
     "end_time": "2021-09-02T21:13:54.242109Z",
     "start_time": "2021-09-02T21:13:54.192696Z"
    }
   },
   "outputs": [],
   "source": [
    "df_all.to_csv('datamos_bldg_{}_uncleaned.csv'.format(date.today().strftime(\"%Y%m%d\")), index = False)"
   ]
  },
  {
   "cell_type": "code",
   "execution_count": 8,
   "metadata": {
    "ExecuteTime": {
     "end_time": "2021-09-02T21:14:07.048669Z",
     "start_time": "2021-09-02T21:14:07.038965Z"
    }
   },
   "outputs": [
    {
     "data": {
      "text/plain": [
       "{'UNOM': 3402339,\n",
       " 'OBJ_TYPE': 'Здание',\n",
       " 'OnTerritoryOfMoscow': 'да',\n",
       " 'ADDRESS': 'город Москва, Машкинское шоссе, дом 38, строение 1',\n",
       " 'SIMPLE_ADDRESS': 'Машкинское шоссе, дом 38, строение 1',\n",
       " 'P0': None,\n",
       " 'P1': 'город Москва',\n",
       " 'P2': '',\n",
       " 'P3': None,\n",
       " 'P4': None,\n",
       " 'P5': 'муниципальный округ Молжаниновский',\n",
       " 'P6': None,\n",
       " 'P7': 'Машкинское шоссе',\n",
       " 'P90': None,\n",
       " 'P91': None,\n",
       " 'L1_VALUE': '38',\n",
       " 'L1_TYPE': 'дом',\n",
       " 'L2_VALUE': '',\n",
       " 'L2_TYPE': None,\n",
       " 'L3_TYPE': 'строение',\n",
       " 'L3_VALUE': '1',\n",
       " 'L4_TYPE': None,\n",
       " 'L4_VALUE': '',\n",
       " 'L5_TYPE': None,\n",
       " 'L5_VALUE': '',\n",
       " 'ADM_AREA': 'Северный административный округ',\n",
       " 'DISTRICT': 'муниципальный округ Молжаниновский',\n",
       " 'NREG': 9013195,\n",
       " 'DREG': '27.01.2006',\n",
       " 'N_FIAS': '362F6788-8151-4405-85D3-82DBA239F411',\n",
       " 'D_FIAS': '24.11.2011',\n",
       " 'KAD_N': [],\n",
       " 'KAD_ZU': [],\n",
       " 'KLADR': '77000000000371600',\n",
       " 'TDOC': 'Распоряжение префектуры АО города Москвы',\n",
       " 'NDOC': '101',\n",
       " 'DDOC': '17.01.2006',\n",
       " 'VID': 'Адрес',\n",
       " 'ADR_TYPE': 'Официальный',\n",
       " 'SOSTAD': 'Зарегистрирован в АР',\n",
       " 'STATUS': 'Ожидает внесения в ГКН',\n",
       " 'global_id': 646700414}"
      ]
     },
     "execution_count": 8,
     "metadata": {},
     "output_type": "execute_result"
    }
   ],
   "source": [
    "#извлечение атрибутивной информации\n",
    "df_all['properties'][0]['Attributes']"
   ]
  },
  {
   "cell_type": "code",
   "execution_count": 9,
   "metadata": {
    "ExecuteTime": {
     "end_time": "2021-09-02T21:14:10.239275Z",
     "start_time": "2021-09-02T21:14:10.200534Z"
    }
   },
   "outputs": [],
   "source": [
    "df_all['OBJ_TYPE'] = df_all['properties'].apply(lambda x: x['Attributes']['OBJ_TYPE'])\n",
    "df_all['ADDRESS'] = df_all['properties'].apply(lambda x: x['Attributes']['ADDRESS'])\n",
    "df_all['ADM_AREA'] = df_all['properties'].apply(lambda x: x['Attributes']['ADM_AREA'])\n",
    "df_all['DISTRICT'] = df_all['properties'].apply(lambda x: x['Attributes']['DISTRICT'])\n",
    "df_all['NREG'] = df_all['properties'].apply(lambda x: x['Attributes']['NREG'])\n",
    "df_all['DREG'] = df_all['properties'].apply(lambda x: x['Attributes']['DREG'])\n",
    "df_all['N_FIAS'] = df_all['properties'].apply(lambda x: x['Attributes']['N_FIAS'])\n",
    "df_all['D_FIAS'] = df_all['properties'].apply(lambda x: x['Attributes']['D_FIAS'])\n",
    "df_all['KLADR'] = df_all['properties'].apply(lambda x: x['Attributes']['KLADR'])\n",
    "df_all['TDOC'] = df_all['properties'].apply(lambda x: x['Attributes']['TDOC'])\n",
    "df_all['NDOC'] = df_all['properties'].apply(lambda x: x['Attributes']['NDOC'])\n",
    "df_all['DDOC'] = df_all['properties'].apply(lambda x: x['Attributes']['DDOC'])\n",
    "df_all['VID'] = df_all['properties'].apply(lambda x: x['Attributes']['VID'])\n",
    "df_all['ADR_TYPE'] = df_all['properties'].apply(lambda x: x['Attributes']['ADR_TYPE'])\n",
    "df_all['SOSTAD'] = df_all['properties'].apply(lambda x: x['Attributes']['SOSTAD'])\n",
    "df_all['STATUS'] = df_all['properties'].apply(lambda x: x['Attributes']['STATUS'])\n",
    "df_all['global_id'] = df_all['properties'].apply(lambda x: x['Attributes']['global_id'])"
   ]
  },
  {
   "cell_type": "code",
   "execution_count": 10,
   "metadata": {
    "ExecuteTime": {
     "end_time": "2021-09-02T21:14:11.680516Z",
     "start_time": "2021-09-02T21:14:11.642828Z"
    }
   },
   "outputs": [
    {
     "data": {
      "text/html": [
       "<div>\n",
       "<style scoped>\n",
       "    .dataframe tbody tr th:only-of-type {\n",
       "        vertical-align: middle;\n",
       "    }\n",
       "\n",
       "    .dataframe tbody tr th {\n",
       "        vertical-align: top;\n",
       "    }\n",
       "\n",
       "    .dataframe thead th {\n",
       "        text-align: right;\n",
       "    }\n",
       "</style>\n",
       "<table border=\"1\" class=\"dataframe\">\n",
       "  <thead>\n",
       "    <tr style=\"text-align: right;\">\n",
       "      <th></th>\n",
       "      <th>geometry</th>\n",
       "      <th>type</th>\n",
       "      <th>OBJ_TYPE</th>\n",
       "      <th>ADDRESS</th>\n",
       "      <th>ADM_AREA</th>\n",
       "      <th>DISTRICT</th>\n",
       "      <th>NREG</th>\n",
       "      <th>DREG</th>\n",
       "      <th>N_FIAS</th>\n",
       "      <th>D_FIAS</th>\n",
       "      <th>KLADR</th>\n",
       "      <th>TDOC</th>\n",
       "      <th>NDOC</th>\n",
       "      <th>DDOC</th>\n",
       "      <th>VID</th>\n",
       "      <th>ADR_TYPE</th>\n",
       "      <th>SOSTAD</th>\n",
       "      <th>STATUS</th>\n",
       "      <th>global_id</th>\n",
       "    </tr>\n",
       "  </thead>\n",
       "  <tbody>\n",
       "    <tr>\n",
       "      <th>0</th>\n",
       "      <td>POLYGON ((37.3717167386076 55.9103956403125, 3...</td>\n",
       "      <td>Feature</td>\n",
       "      <td>Здание</td>\n",
       "      <td>город Москва, Машкинское шоссе, дом 38, строен...</td>\n",
       "      <td>Северный административный округ</td>\n",
       "      <td>муниципальный округ Молжаниновский</td>\n",
       "      <td>9013195.0</td>\n",
       "      <td>27.01.2006</td>\n",
       "      <td>362F6788-8151-4405-85D3-82DBA239F411</td>\n",
       "      <td>24.11.2011</td>\n",
       "      <td>77000000000371600</td>\n",
       "      <td>Распоряжение префектуры АО города Москвы</td>\n",
       "      <td>101</td>\n",
       "      <td>17.01.2006</td>\n",
       "      <td>Адрес</td>\n",
       "      <td>Официальный</td>\n",
       "      <td>Зарегистрирован в АР</td>\n",
       "      <td>Ожидает внесения в ГКН</td>\n",
       "      <td>646700414</td>\n",
       "    </tr>\n",
       "    <tr>\n",
       "      <th>1</th>\n",
       "      <td>POLYGON ((37.3699869120991 55.9088060283177, 3...</td>\n",
       "      <td>Feature</td>\n",
       "      <td>Здание</td>\n",
       "      <td>город Москва, Машкинское шоссе, дом 38, строен...</td>\n",
       "      <td>Северный административный округ</td>\n",
       "      <td>муниципальный округ Молжаниновский</td>\n",
       "      <td>9013197.0</td>\n",
       "      <td>27.01.2006</td>\n",
       "      <td>CCA04026-F79F-4DBC-BE58-DFDD8FF9F927</td>\n",
       "      <td>24.11.2011</td>\n",
       "      <td>77000000000371600</td>\n",
       "      <td>Распоряжение префектуры АО города Москвы</td>\n",
       "      <td>101</td>\n",
       "      <td>17.01.2006</td>\n",
       "      <td>Адрес</td>\n",
       "      <td>Официальный</td>\n",
       "      <td>Зарегистрирован в АР</td>\n",
       "      <td>Ожидает внесения в ГКН</td>\n",
       "      <td>648476943</td>\n",
       "    </tr>\n",
       "    <tr>\n",
       "      <th>2</th>\n",
       "      <td>POLYGON ((37.3703042647069 55.9094987126731, 3...</td>\n",
       "      <td>Feature</td>\n",
       "      <td>Здание</td>\n",
       "      <td>город Москва, Машкинское шоссе, дом 38, строен...</td>\n",
       "      <td>Северный административный округ</td>\n",
       "      <td>муниципальный округ Молжаниновский</td>\n",
       "      <td>9013196.0</td>\n",
       "      <td>27.01.2006</td>\n",
       "      <td>A9EBC196-9B3B-4CFD-BC7C-11D190F96246</td>\n",
       "      <td>24.11.2011</td>\n",
       "      <td>77000000000371600</td>\n",
       "      <td>Распоряжение префектуры АО города Москвы</td>\n",
       "      <td>101</td>\n",
       "      <td>17.01.2006</td>\n",
       "      <td>Адрес</td>\n",
       "      <td>Официальный</td>\n",
       "      <td>Зарегистрирован в АР</td>\n",
       "      <td>Ожидает внесения в ГКН</td>\n",
       "      <td>648649049</td>\n",
       "    </tr>\n",
       "    <tr>\n",
       "      <th>3</th>\n",
       "      <td>POLYGON ((37.37282465668 55.9098805335153, 37....</td>\n",
       "      <td>Feature</td>\n",
       "      <td>Здание</td>\n",
       "      <td>город Москва, Машкинское шоссе, дом 38, строен...</td>\n",
       "      <td>Северный административный округ</td>\n",
       "      <td>муниципальный округ Молжаниновский</td>\n",
       "      <td>9013198.0</td>\n",
       "      <td>27.01.2006</td>\n",
       "      <td>5A357F74-E49C-4B32-B6FA-4F9C63CDFE5D</td>\n",
       "      <td>24.11.2011</td>\n",
       "      <td>77000000000371600</td>\n",
       "      <td>Распоряжение префектуры АО города Москвы</td>\n",
       "      <td>101</td>\n",
       "      <td>17.01.2006</td>\n",
       "      <td>Адрес</td>\n",
       "      <td>Официальный</td>\n",
       "      <td>Зарегистрирован в АР</td>\n",
       "      <td>Ожидает внесения в ГКН</td>\n",
       "      <td>648884082</td>\n",
       "    </tr>\n",
       "    <tr>\n",
       "      <th>4</th>\n",
       "      <td>POLYGON ((37.3730061755201 55.9098477613325, 3...</td>\n",
       "      <td>Feature</td>\n",
       "      <td>Здание</td>\n",
       "      <td>город Москва, Машкинское шоссе, дом 38, строен...</td>\n",
       "      <td>Северный административный округ</td>\n",
       "      <td>муниципальный округ Молжаниновский</td>\n",
       "      <td>NaN</td>\n",
       "      <td></td>\n",
       "      <td>151B9B45-0BA3-4636-A450-ABCD073654F8</td>\n",
       "      <td>24.11.2011</td>\n",
       "      <td>77000000000371600</td>\n",
       "      <td>None</td>\n",
       "      <td></td>\n",
       "      <td></td>\n",
       "      <td>Адрес</td>\n",
       "      <td>Основной</td>\n",
       "      <td>-</td>\n",
       "      <td>-</td>\n",
       "      <td>649199021</td>\n",
       "    </tr>\n",
       "  </tbody>\n",
       "</table>\n",
       "</div>"
      ],
      "text/plain": [
       "                                            geometry     type OBJ_TYPE  \\\n",
       "0  POLYGON ((37.3717167386076 55.9103956403125, 3...  Feature   Здание   \n",
       "1  POLYGON ((37.3699869120991 55.9088060283177, 3...  Feature   Здание   \n",
       "2  POLYGON ((37.3703042647069 55.9094987126731, 3...  Feature   Здание   \n",
       "3  POLYGON ((37.37282465668 55.9098805335153, 37....  Feature   Здание   \n",
       "4  POLYGON ((37.3730061755201 55.9098477613325, 3...  Feature   Здание   \n",
       "\n",
       "                                             ADDRESS  \\\n",
       "0  город Москва, Машкинское шоссе, дом 38, строен...   \n",
       "1  город Москва, Машкинское шоссе, дом 38, строен...   \n",
       "2  город Москва, Машкинское шоссе, дом 38, строен...   \n",
       "3  город Москва, Машкинское шоссе, дом 38, строен...   \n",
       "4  город Москва, Машкинское шоссе, дом 38, строен...   \n",
       "\n",
       "                          ADM_AREA                            DISTRICT  \\\n",
       "0  Северный административный округ  муниципальный округ Молжаниновский   \n",
       "1  Северный административный округ  муниципальный округ Молжаниновский   \n",
       "2  Северный административный округ  муниципальный округ Молжаниновский   \n",
       "3  Северный административный округ  муниципальный округ Молжаниновский   \n",
       "4  Северный административный округ  муниципальный округ Молжаниновский   \n",
       "\n",
       "        NREG        DREG                                N_FIAS      D_FIAS  \\\n",
       "0  9013195.0  27.01.2006  362F6788-8151-4405-85D3-82DBA239F411  24.11.2011   \n",
       "1  9013197.0  27.01.2006  CCA04026-F79F-4DBC-BE58-DFDD8FF9F927  24.11.2011   \n",
       "2  9013196.0  27.01.2006  A9EBC196-9B3B-4CFD-BC7C-11D190F96246  24.11.2011   \n",
       "3  9013198.0  27.01.2006  5A357F74-E49C-4B32-B6FA-4F9C63CDFE5D  24.11.2011   \n",
       "4        NaN              151B9B45-0BA3-4636-A450-ABCD073654F8  24.11.2011   \n",
       "\n",
       "               KLADR                                      TDOC NDOC  \\\n",
       "0  77000000000371600  Распоряжение префектуры АО города Москвы  101   \n",
       "1  77000000000371600  Распоряжение префектуры АО города Москвы  101   \n",
       "2  77000000000371600  Распоряжение префектуры АО города Москвы  101   \n",
       "3  77000000000371600  Распоряжение префектуры АО города Москвы  101   \n",
       "4  77000000000371600                                      None        \n",
       "\n",
       "         DDOC    VID     ADR_TYPE                SOSTAD  \\\n",
       "0  17.01.2006  Адрес  Официальный  Зарегистрирован в АР   \n",
       "1  17.01.2006  Адрес  Официальный  Зарегистрирован в АР   \n",
       "2  17.01.2006  Адрес  Официальный  Зарегистрирован в АР   \n",
       "3  17.01.2006  Адрес  Официальный  Зарегистрирован в АР   \n",
       "4              Адрес     Основной                     -   \n",
       "\n",
       "                   STATUS  global_id  \n",
       "0  Ожидает внесения в ГКН  646700414  \n",
       "1  Ожидает внесения в ГКН  648476943  \n",
       "2  Ожидает внесения в ГКН  648649049  \n",
       "3  Ожидает внесения в ГКН  648884082  \n",
       "4                       -  649199021  "
      ]
     },
     "execution_count": 10,
     "metadata": {},
     "output_type": "execute_result"
    }
   ],
   "source": [
    "#удаление дубликатов, которые могли возникнуть при выгрузке\n",
    "df_pd_final = df_all.drop('properties', axis = 1)\n",
    "df_pd_final = df_pd_final.drop_duplicates(['global_id'])\n",
    "df_pd_final.head()"
   ]
  },
  {
   "cell_type": "code",
   "execution_count": 11,
   "metadata": {
    "ExecuteTime": {
     "end_time": "2021-09-02T21:14:14.467008Z",
     "start_time": "2021-09-02T21:14:14.444568Z"
    }
   },
   "outputs": [],
   "source": [
    "df_pd_final.to_csv('datamos_bldg_{}.csv'.format(date.today().strftime(\"%Y%m%d\")), index = False)"
   ]
  },
  {
   "cell_type": "code",
   "execution_count": null,
   "metadata": {},
   "outputs": [],
   "source": []
  }
 ],
 "metadata": {
  "kernelspec": {
   "display_name": "Python 3",
   "language": "python",
   "name": "python3"
  },
  "language_info": {
   "codemirror_mode": {
    "name": "ipython",
    "version": 3
   },
   "file_extension": ".py",
   "mimetype": "text/x-python",
   "name": "python",
   "nbconvert_exporter": "python",
   "pygments_lexer": "ipython3",
   "version": "3.7.4"
  },
  "toc": {
   "base_numbering": 1,
   "nav_menu": {},
   "number_sections": true,
   "sideBar": true,
   "skip_h1_title": false,
   "title_cell": "Table of Contents",
   "title_sidebar": "Contents",
   "toc_cell": false,
   "toc_position": {},
   "toc_section_display": true,
   "toc_window_display": false
  }
 },
 "nbformat": 4,
 "nbformat_minor": 2
}
